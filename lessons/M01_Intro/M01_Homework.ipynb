{
 "cells": [
  {
   "cell_type": "code",
   "execution_count": null,
   "id": "75bb0790-0213-4108-ad7d-4befaba507e1",
   "metadata": {},
   "outputs": [],
   "source": [
    "# Homework 1\n",
    "\n",
    "```yaml\n",
    "Author:   Andrew Avitabile\n",
    "Date:     01 January 2024\n",
    "Course:   DS 5001 Exploratory Text Analytics\n",
    "Module:   01 Getting Started\n",
    "Topic:    M01 Homework\n",
    "```\n",
    "\n",
    "## Purpose\n",
    "\n",
    "Take a raw text file from Project Gutenberg and convert it into a dataframe of tokens. \n",
    "\n",
    "Explore some properties of the data. "
   ]
  }
 ],
 "metadata": {
  "kernelspec": {
   "display_name": "Python 3 (ipykernel)",
   "language": "python",
   "name": "python3"
  },
  "language_info": {
   "codemirror_mode": {
    "name": "ipython",
    "version": 3
   },
   "file_extension": ".py",
   "mimetype": "text/x-python",
   "name": "python",
   "nbconvert_exporter": "python",
   "pygments_lexer": "ipython3",
   "version": "3.11.5"
  }
 },
 "nbformat": 4,
 "nbformat_minor": 5
}

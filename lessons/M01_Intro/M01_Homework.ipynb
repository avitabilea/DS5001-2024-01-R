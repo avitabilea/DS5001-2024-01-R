{
 "cells": [
  {
   "cell_type": "markdown",
   "id": "df030799-7901-49f6-b39b-b64c2888c76b",
   "metadata": {},
   "source": [
    "# Homework 1\n",
    "\n",
    "```yaml\n",
    "Author:   Andrew Avitabile\n",
    "Date:     01 January 2024\n",
    "Course:   DS 5001 Exploratory Text Analytics\n",
    "Module:   01 Getting Started\n",
    "Topic:    M01 Homework\n",
    "```\n",
    "\n",
    "## Purpose\n",
    "\n",
    "Take a raw text file from Project Gutenberg and convert it into a dataframe of tokens. \n",
    "\n",
    "Explore some properties of the data. "
   ]
  },
  {
   "cell_type": "markdown",
   "id": "cd3a689c-7588-4764-85ee-00bd6c842af8",
   "metadata": {
    "tags": []
   },
   "source": [
    "## Set Up"
   ]
  },
  {
   "cell_type": "code",
   "execution_count": 1,
   "id": "b9977d60-8b32-4f7d-9a31-f488e1f6e115",
   "metadata": {},
   "outputs": [],
   "source": [
    "import pandas as pd"
   ]
  },
  {
   "cell_type": "code",
   "execution_count": 2,
   "id": "ede0e5ca-1dae-4600-b4af-af405303f2c1",
   "metadata": {},
   "outputs": [],
   "source": [
    "import configparser\n",
    "config = configparser.ConfigParser()"
   ]
  },
  {
   "cell_type": "code",
   "execution_count": 3,
   "id": "06aedf7d-e20f-4ded-b00b-5f51fa12fb49",
   "metadata": {},
   "outputs": [],
   "source": [
    "config.read(\"../../../env.ini\")\n",
    "data_home = config['DEFAULT']['data_home']\n",
    "output_dir = config['DEFAULT']['output_dir']"
   ]
  },
  {
   "cell_type": "markdown",
   "id": "59718596-44f0-438a-bb3f-ca80a2420db0",
   "metadata": {
    "tags": []
   },
   "source": [
    "## Import data and basic cleaning"
   ]
  },
  {
   "cell_type": "code",
   "execution_count": 4,
   "id": "152c0040-6c74-436e-8bd6-047302249e29",
   "metadata": {
    "tags": []
   },
   "outputs": [],
   "source": [
    "# Import data (Mary Shelley's, Frankenstien; or, The Modern Prometheus)\n",
    "src_file = f\"{data_home}/gutenberg/pg42324.txt\"\n",
    "\n",
    "# Read data, line-by-line\n",
    "lines = open(src_file, 'r').readlines()\n",
    "\n",
    "# Turn into a pandas data frame\n",
    "text = pd.DataFrame(lines)\n",
    "\n",
    "# Create a column called \"line_str\"\n",
    "text.columns = ['line_str']\n",
    "\n",
    "# Create a column \"len\" that is the length of each line\n",
    "text['len'] = text.line_str.str.len()\n",
    "\n",
    "# Removing line breaks\n",
    "chunk_pat = '\\n\\n' \n",
    "chunks = open(src_file, 'r').read().split(chunk_pat)\n",
    "text = pd.DataFrame(chunks, columns=['chunk_str'])\n",
    "text.index.name = 'chunk_id'\n",
    "text.chunk_str = text.chunk_str.str.replace('\\n+', ' ', regex=True).str.strip()\n",
    "\n",
    "# Convert lines to tokens\n",
    "K = text.chunk_str.str.split(expand=True).stack().to_frame('token_str')\n",
    "K.index.names = ['chunk_num','token_num']\n",
    "\n",
    "# Text pre-processing\n",
    "K['term_str'] = K.token_str.str.replace(r'\\W+', '', regex=True).str.lower()\n",
    "\n",
    "#Get vocabulary of words from text\n",
    "V = K.term_str.value_counts().to_frame('n')\n",
    "V.index.name = 'term_str'\n",
    "\n",
    "#Define p as the proportion of times a word appears in the text\n",
    "V['p'] = V.n / V.n.sum()"
   ]
  },
  {
   "cell_type": "markdown",
   "id": "509844d9-4625-4304-b19b-089ac62f23be",
   "metadata": {
    "tags": []
   },
   "source": [
    "## Question 1\n",
    "\n",
    "What is the name of the novel associated with the text file?"
   ]
  },
  {
   "cell_type": "markdown",
   "id": "cd31afbc-347d-44b9-93f9-3b32b4af59c2",
   "metadata": {
    "tags": []
   },
   "source": [
    "### Answer\n",
    "\n",
    "Frankenstien; or, The Modern Prometheus by Mary Shelley"
   ]
  },
  {
   "cell_type": "markdown",
   "id": "1bed2c33-c746-402a-a410-15474e5d4f14",
   "metadata": {
    "tags": []
   },
   "source": [
    "## Question 2\n",
    "\n",
    "How many tokens does the raw text have? By raw text, we mean the text as-is, without all of the Gutenberg boilerplate removed."
   ]
  },
  {
   "cell_type": "markdown",
   "id": "2eaa4083-9a7d-41ce-9ebd-e77c60311434",
   "metadata": {},
   "source": [
    "### Answer\n",
    "The length of K is the number of tokens in the text (after removing linebreaks)."
   ]
  },
  {
   "cell_type": "code",
   "execution_count": 5,
   "id": "f45d0d5e-7d1a-415c-9889-f47477a37f5f",
   "metadata": {},
   "outputs": [
    {
     "data": {
      "text/plain": [
       "80985"
      ]
     },
     "execution_count": 5,
     "metadata": {},
     "output_type": "execute_result"
    }
   ],
   "source": [
    "len(K)"
   ]
  },
  {
   "cell_type": "markdown",
   "id": "d7bb2eb5-c6b3-4c57-91e0-e02d34ecf062",
   "metadata": {
    "tags": []
   },
   "source": [
    "## Question 3\n",
    "\n",
    "What is the most frequent pronoun in the text?"
   ]
  },
  {
   "cell_type": "markdown",
   "id": "9eabcc81-d4f4-4de6-95af-69b5d5d03aea",
   "metadata": {
    "tags": []
   },
   "source": [
    "### Answer\n",
    "\n",
    "The plot below shows that \"i\" is the most frequent pronoun in the text."
   ]
  },
  {
   "cell_type": "code",
   "execution_count": 6,
   "id": "3781e7ab-dedb-4866-ab71-f2263a7f2a68",
   "metadata": {
    "tags": []
   },
   "outputs": [
    {
     "data": {
      "image/png": "[encoded data removed]",
      "text/plain": [
       "<Figure size 1000x1000 with 1 Axes>"
      ]
     },
     "metadata": {},
     "output_type": "display_data"
    }
   ],
   "source": [
    "V.p.head(20).sort_values().plot.barh(figsize=(10,10));"
   ]
  },
  {
   "cell_type": "markdown",
   "id": "2393e9c5-a26f-4a22-ab68-8b0bd5e07357",
   "metadata": {
    "tags": []
   },
   "source": [
    "## Question 4\n",
    "\n",
    "Which subject pronoun is most frequent in the text we imported in class? "
   ]
  },
  {
   "cell_type": "code",
   "execution_count": 7,
   "id": "3001f35e-6e0b-469f-bcb2-44716e1e7b27",
   "metadata": {
    "tags": []
   },
   "outputs": [],
   "source": [
    "# Import data (Now, Jane Austen's Persuasion)\n",
    "src_file = f\"{data_home}/gutenberg/pg105.txt\"\n",
    "\n",
    "# Read data, line-by-line\n",
    "lines = open(src_file, 'r').readlines()\n",
    "\n",
    "# Turn into a pandas data frame\n",
    "text = pd.DataFrame(lines)\n",
    "\n",
    "# Create a column called \"line_str\"\n",
    "text.columns = ['line_str']\n",
    "\n",
    "# Create a column \"len\" that is the length of each line\n",
    "text['len'] = text.line_str.str.len()\n",
    "\n",
    "# Removing line breaks\n",
    "chunk_pat = '\\n\\n' \n",
    "chunks = open(src_file, 'r').read().split(chunk_pat)\n",
    "text = pd.DataFrame(chunks, columns=['chunk_str'])\n",
    "text.index.name = 'chunk_id'\n",
    "text.chunk_str = text.chunk_str.str.replace('\\n+', ' ', regex=True).str.strip()\n",
    "\n",
    "# Convert lines to tokens\n",
    "K = text.chunk_str.str.split(expand=True).stack().to_frame('token_str')\n",
    "K.index.names = ['chunk_num','token_num']\n",
    "\n",
    "# Text pre-processing\n",
    "K['term_str'] = K.token_str.str.replace(r'\\W+', '', regex=True).str.lower()\n",
    "\n",
    "#Get vocabulary of words from text\n",
    "V = K.term_str.value_counts().to_frame('n')\n",
    "V.index.name = 'term_str'\n",
    "\n",
    "#Define p as the proportion of times a word appears in the text\n",
    "V['p'] = V.n / V.n.sum()"
   ]
  },
  {
   "cell_type": "markdown",
   "id": "627e594d-7a31-4101-bb38-838b101c0873",
   "metadata": {
    "tags": []
   },
   "source": [
    "### Answer\n",
    "\n",
    "The plot below shows that \"her\" is the most frequent pronoun in the text."
   ]
  },
  {
   "cell_type": "code",
   "execution_count": 8,
   "id": "e352e373-8374-419a-a1c1-ab3d19677a24",
   "metadata": {
    "tags": []
   },
   "outputs": [
    {
     "data": {
      "image/png": "[encoded data removed]",
      "text/plain": [
       "<Figure size 1000x1000 with 1 Axes>"
      ]
     },
     "metadata": {},
     "output_type": "display_data"
    }
   ],
   "source": [
    "V.p.head(20).sort_values().plot.barh(figsize=(10,10));"
   ]
  },
  {
   "cell_type": "markdown",
   "id": "f811a76b-4f2d-4f89-9d86-d7d493e9292e",
   "metadata": {
    "tags": []
   },
   "source": [
    "## Question 5\n",
    "\n",
    "Provide a brief explanation for this difference, based on what you may know about the two novels."
   ]
  },
  {
   "cell_type": "markdown",
   "id": "f59c1945-6e22-4f7a-b17c-15d19bb3ef7b",
   "metadata": {
    "tags": []
   },
   "source": [
    "### Answer\n",
    "\n",
    "The difference in the most used pronouns between these texts is due to the point of view (POV) of the narrator. Mary Shelley's Frankenstein is written in the first-person POV of Victor Frankenstein, so the use of \"I\" is likely him referring to himself. Jane Austen's Persuasion is written in the third-person POV and uses of \"her\" are likely referring to Anne Elliot, the text's main character."
   ]
  }
 ],
 "metadata": {
  "kernelspec": {
   "display_name": "Python 3 (ipykernel)",
   "language": "python",
   "name": "python3"
  },
  "language_info": {
   "codemirror_mode": {
    "name": "ipython",
    "version": 3
   },
   "file_extension": ".py",
   "mimetype": "text/x-python",
   "name": "python",
   "nbconvert_exporter": "python",
   "pygments_lexer": "ipython3",
   "version": "3.11.5"
  }
 },
 "nbformat": 4,
 "nbformat_minor": 5
}

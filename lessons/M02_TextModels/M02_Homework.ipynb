{
 "cells": [
  {
   "cell_type": "markdown",
   "id": "e0a81c0c-bea8-4d0e-aef7-d2deb9466c62",
   "metadata": {},
   "source": [
    "# Challenge: Text Into Data\n",
    "\n",
    "```yaml\n",
    "Course:   DS 5001 \n",
    "Module:   02 Text Models\n",
    "Topic:    Homework\n",
    "Author:   Andrew Avitabile\n",
    "Date:     27 January 2024\n",
    "```"
   ]
  },
  {
   "cell_type": "markdown",
   "id": "2133ec07-0674-44a0-9dc3-a08aa0c85498",
   "metadata": {
    "tags": []
   },
   "source": [
    "## Set up data"
   ]
  },
  {
   "cell_type": "code",
   "execution_count": 1,
   "id": "5e0fab79-19d1-4cd0-9434-afca6d4da229",
   "metadata": {
    "tags": []
   },
   "outputs": [],
   "source": [
    "#Get packages\n",
    "import pandas as pd"
   ]
  },
  {
   "cell_type": "code",
   "execution_count": 2,
   "id": "40fb877c-c25d-4876-8d34-549b5ca34e89",
   "metadata": {
    "tags": []
   },
   "outputs": [],
   "source": [
    "#Set configuration\n",
    "import configparser\n",
    "config = configparser.ConfigParser()\n",
    "config.read(\"../../../env.ini\")\n",
    "data_home = config['DEFAULT']['data_home']\n",
    "output_dir = config['DEFAULT']['output_dir']"
   ]
  },
  {
   "cell_type": "code",
   "execution_count": 3,
   "id": "dbfc9f0f-3c45-40e8-92b4-09538a179a7d",
   "metadata": {
    "tags": []
   },
   "outputs": [],
   "source": [
    "#File locations of Austen novels\n",
    "sense_and_sensibility_file = f\"{output_dir}/austen-sense-and-sensibility.csv\" # Location of Jane Austen's Sense and Sensibility\n",
    "persuasion_file = f\"{output_dir}/austen-persuasion.csv\" # Location of Jane Austen's Persuasion"
   ]
  },
  {
   "cell_type": "code",
   "execution_count": 4,
   "id": "3a615232-f877-4194-be7f-a5491f14f92e",
   "metadata": {
    "tags": []
   },
   "outputs": [],
   "source": [
    "#Import novel data\n",
    "sense_and_sensibility_df = pd.read_csv(sense_and_sensibility_file)\n",
    "persuasion_df = pd.read_csv(persuasion_file)"
   ]
  },
  {
   "cell_type": "code",
   "execution_count": 5,
   "id": "f96868a5-2afb-4189-bf7d-de7ed834f8f4",
   "metadata": {
    "tags": []
   },
   "outputs": [],
   "source": [
    "#Add column with novel name\n",
    "sense_and_sensibility_df['title'] = \"Sense and Sensibility\"\n",
    "persuasion_df['title'] = \"Persuasion\""
   ]
  },
  {
   "cell_type": "code",
   "execution_count": 6,
   "id": "6352445a-a672-4c59-ab01-18a68ccde3cd",
   "metadata": {
    "tags": []
   },
   "outputs": [],
   "source": [
    "# Append the novels into a corpus\n",
    "corpus = pd.concat([sense_and_sensibility_df, persuasion_df], ignore_index=True)"
   ]
  },
  {
   "cell_type": "markdown",
   "id": "b3d91bb6-979b-4dc6-b14c-3dbc1c01fe30",
   "metadata": {
    "tags": []
   },
   "source": [
    "## Question 1 How many raw tokens are in the combined data frame?"
   ]
  },
  {
   "cell_type": "code",
   "execution_count": 7,
   "id": "0e67d100-725c-4648-82da-88c9714c4db4",
   "metadata": {
    "tags": []
   },
   "outputs": [
    {
     "name": "stdout",
     "output_type": "stream",
     "text": [
      "Raw tokens in the combined data frame: 207896\n"
     ]
    }
   ],
   "source": [
    "print(\"Raw tokens in the combined data frame:\", len(corpus))"
   ]
  },
  {
   "cell_type": "markdown",
   "id": "436c65b3-f815-4e7d-b5c4-1619a4795b1e",
   "metadata": {
    "tags": []
   },
   "source": [
    "## Question 2: How many distinct terms are there in the combined data frame (i.e. how big is the vocabulary)?"
   ]
  },
  {
   "cell_type": "code",
   "execution_count": 8,
   "id": "f3ad432b-b93a-4998-a5bf-fee3a41db585",
   "metadata": {
    "tags": []
   },
   "outputs": [
    {
     "name": "stdout",
     "output_type": "stream",
     "text": [
      "Distinct terms in the combined data frame: 8238\n"
     ]
    }
   ],
   "source": [
    "unique_term_str = corpus['term_str'].nunique()\n",
    "print(\"Distinct terms in the combined data frame:\", unique_term_str)"
   ]
  },
  {
   "cell_type": "markdown",
   "id": "0c24d11f-cac4-4fe1-a151-2fe5293f5ee0",
   "metadata": {
    "tags": []
   },
   "source": [
    "## Question 3: How many more terms does the vocabulary of Sense and Sensibility have than that of Persuasion?"
   ]
  },
  {
   "cell_type": "code",
   "execution_count": 9,
   "id": "ed443b38-8984-4ca4-a8d5-66204e9a1f7c",
   "metadata": {
    "tags": []
   },
   "outputs": [
    {
     "name": "stdout",
     "output_type": "stream",
     "text": [
      "Number of terms in Sense and Sensibility:  [6279]\n",
      "Number of terms in Persuasion:  [5759]\n",
      "Difference:  [520]\n"
     ]
    }
   ],
   "source": [
    "# Calculate the number of terms by title\n",
    "terms_by_title = corpus.groupby('title')['term_str'].nunique().reset_index(name='Unique_Terms')\n",
    "\n",
    "# Filter the result based on title name\n",
    "target_group = 'Persuasion'\n",
    "persuasion_terms = terms_by_title[terms_by_title['title'] == target_group].reset_index(drop=True)['Unique_Terms'].values\n",
    "ss_terms = terms_by_title[terms_by_title['title'] != target_group].reset_index(drop=True)['Unique_Terms'].values\n",
    "\n",
    "# Display the results\n",
    "print(\"Number of terms in Sense and Sensibility: \", ss_terms)\n",
    "print(\"Number of terms in Persuasion: \", persuasion_terms)\n",
    "print(\"Difference: \", ss_terms - persuasion_terms)"
   ]
  },
  {
   "cell_type": "markdown",
   "id": "63a0fbf0-05b4-49fd-9357-d9fa8edcb13b",
   "metadata": {
    "tags": []
   },
   "source": [
    "## Question 4: What is the average number of tokens, rounded to an integer, per chapter in the corpus?"
   ]
  },
  {
   "cell_type": "code",
   "execution_count": 10,
   "id": "27fb7ae9-884a-47c2-a215-5f144f0f8b1f",
   "metadata": {
    "tags": []
   },
   "outputs": [
    {
     "name": "stdout",
     "output_type": "stream",
     "text": [
      "Average tokens per chapter: 2809.0\n"
     ]
    }
   ],
   "source": [
    "#Calculate the tokens per chapter\n",
    "tokens_per_chapter = corpus.groupby(['title','chap_num']).size().reset_index(name='Row_Count')\n",
    "\n",
    "#Average the tokens per chapter\n",
    "average_tokens_per_chapter = tokens_per_chapter['Row_Count'].mean().round()\n",
    "\n",
    "# Display the result\n",
    "print(\"Average tokens per chapter:\", average_tokens_per_chapter)"
   ]
  },
  {
   "cell_type": "markdown",
   "id": "4179a95c-a31c-416d-a12c-59ad474d2605",
   "metadata": {},
   "source": [
    "## Question 5: What is the average number of tokens, rounded to an integer, per paragraph in the corpus?"
   ]
  },
  {
   "cell_type": "code",
   "execution_count": 11,
   "id": "0accca2d-6966-4537-9e62-ab0674b4b33c",
   "metadata": {
    "tags": []
   },
   "outputs": [
    {
     "name": "stdout",
     "output_type": "stream",
     "text": [
      "Average tokens per paragraph: 1118.0\n"
     ]
    }
   ],
   "source": [
    "#Calculate the tokens per paragraph\n",
    "tokens_per_paragraph = corpus.groupby(['title','para_num']).size().reset_index(name='Row_Count')\n",
    "\n",
    "#Average the tokens per paragraph\n",
    "average_tokens_per_paragraph = tokens_per_paragraph['Row_Count'].mean().round()\n",
    "\n",
    "# Display the result\n",
    "print(\"Average tokens per paragraph:\", average_tokens_per_paragraph)"
   ]
  }
 ],
 "metadata": {
  "kernelspec": {
   "display_name": "Python 3 (ipykernel)",
   "language": "python",
   "name": "python3"
  },
  "language_info": {
   "codemirror_mode": {
    "name": "ipython",
    "version": 3
   },
   "file_extension": ".py",
   "mimetype": "text/x-python",
   "name": "python",
   "nbconvert_exporter": "python",
   "pygments_lexer": "ipython3",
   "version": "3.11.5"
  }
 },
 "nbformat": 4,
 "nbformat_minor": 5
}

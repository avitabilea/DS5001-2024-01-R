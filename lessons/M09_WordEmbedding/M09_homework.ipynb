{
 "cells": [
  {
   "cell_type": "markdown",
   "id": "45001252-6a80-4e9c-8825-623e8fbe8a87",
   "metadata": {
    "tags": []
   },
   "source": [
    "# Metadata\n",
    "\n",
    "```yaml\n",
    "Course:    DS 5001\n",
    "Module:    09 Lab\n",
    "Topic:     Homework 9\n",
    "Author:    Andrew Avitabile\n",
    "Date:      27 March 2024\n",
    "```"
   ]
  },
  {
   "cell_type": "markdown",
   "id": "b899b235-e4cc-4891-8956-9c804e477bf1",
   "metadata": {
    "tags": []
   },
   "source": [
    "# Set Up"
   ]
  },
  {
   "cell_type": "code",
   "execution_count": 3,
   "id": "daafc9b6-75ef-47be-91f3-0d68b1a100ca",
   "metadata": {
    "tags": []
   },
   "outputs": [],
   "source": [
    "import configparser\n",
    "config = configparser.ConfigParser()\n",
    "config.read(\"../../../env.ini\")\n",
    "data_home = config['DEFAULT']['data_home']\n",
    "output_dir = config['DEFAULT']['output_dir']\n",
    "local_lib = config['DEFAULT']['local_lib']"
   ]
  },
  {
   "cell_type": "code",
   "execution_count": 19,
   "id": "b533b641-990f-45e2-894d-bbf386981689",
   "metadata": {
    "tags": []
   },
   "outputs": [],
   "source": [
    "# Adjust this for a new corpus\n",
    "data_prefix = 'austen-melville'\n",
    "table_dir =  f'{data_home}/{data_prefix}'\n",
    "OHCO = ['book_id', 'chap_num', 'para_num', 'sent_num', 'token_num']\n",
    "PARA = OHCO[:4] # Paragraphs\n",
    "SENT = OHCO[:5] # Sentences\n",
    "BAG = PARA"
   ]
  },
  {
   "cell_type": "code",
   "execution_count": 6,
   "id": "5c854694-4a08-4adb-8b37-fe72e560cfa0",
   "metadata": {
    "tags": []
   },
   "outputs": [],
   "source": [
    "# word2vec parameters\n",
    "w2v_params = dict(\n",
    "    window = 5,\n",
    "    vector_size = 246,\n",
    "    min_count = 50, # THIS LIMITS OUR VOCAB\n",
    "    workers = 4\n",
    ")"
   ]
  },
  {
   "cell_type": "code",
   "execution_count": 7,
   "id": "39c58ad6-0c35-44e4-b65e-b561f5be5747",
   "metadata": {
    "tags": []
   },
   "outputs": [],
   "source": [
    "import pandas as pd\n",
    "import numpy as np\n",
    "from gensim.models import word2vec\n",
    "from gensim.corpora import Dictionary\n",
    "from sklearn.manifold import TSNE\n",
    "import plotly_express as px"
   ]
  },
  {
   "cell_type": "code",
   "execution_count": 8,
   "id": "3f77d5d4-6871-49f2-a766-e660fd2f6e74",
   "metadata": {
    "tags": []
   },
   "outputs": [
    {
     "data": {
      "text/plain": [
       "'4.3.0'"
      ]
     },
     "execution_count": 8,
     "metadata": {},
     "output_type": "execute_result"
    }
   ],
   "source": [
    "import gensim\n",
    "gensim.__version__"
   ]
  },
  {
   "cell_type": "markdown",
   "id": "77aa6c27-3a3b-4359-9e9d-289524f0a737",
   "metadata": {},
   "source": [
    "# Import `TOKENS` and `VOCAB`\n",
    "\n",
    "We import data from the TOKEN table of the novels corpus, excluding proper nouns."
   ]
  },
  {
   "cell_type": "code",
   "execution_count": 21,
   "id": "112ce22b-74b4-4608-b1a0-39d371c47748",
   "metadata": {
    "tags": []
   },
   "outputs": [],
   "source": [
    "TOKENS = pd.read_csv(f'{output_dir}/{data_prefix}-TOKEN.csv').set_index(OHCO)"
   ]
  },
  {
   "cell_type": "code",
   "execution_count": 24,
   "id": "e20d07fb-7531-4de7-9ea0-27bfe54be75e",
   "metadata": {
    "tags": []
   },
   "outputs": [],
   "source": [
    "VOCAB = pd.read_csv(f'{output_dir}/{data_prefix}-VOCAB.csv').set_index('term_str')"
   ]
  },
  {
   "cell_type": "markdown",
   "id": "faec656a-9e7b-45ab-bcd2-9e78fcc173aa",
   "metadata": {},
   "source": [
    "# Convert to Gensim\n",
    "\n",
    "We now create a Gensim-style corpus of docs, a list of lists of tokens."
   ]
  },
  {
   "cell_type": "code",
   "execution_count": 25,
   "id": "91aa3166-e8e1-4c42-bea3-f9f2025ad7b7",
   "metadata": {
    "tags": []
   },
   "outputs": [],
   "source": [
    "docs = TOKENS[~TOKENS.pos.str.match('NNPS?')].dropna(subset='term_str')\\\n",
    "    .groupby(BAG)\\\n",
    "    .term_str.apply(lambda  x:  x.tolist())\\\n",
    "    .reset_index()['term_str'].tolist()\n",
    "docs = [doc for doc in docs if len(doc) > 1] # Lose single word docs"
   ]
  },
  {
   "cell_type": "code",
   "execution_count": 26,
   "id": "6dd02c94-e6dc-4f2b-844f-724829a2b340",
   "metadata": {
    "tags": []
   },
   "outputs": [],
   "source": [
    "vocab = Dictionary(docs)"
   ]
  },
  {
   "cell_type": "markdown",
   "id": "c7954b71-a537-49ed-8fb9-1097eb30c013",
   "metadata": {},
   "source": [
    "# Generate word embeddings with Gensim's module"
   ]
  },
  {
   "cell_type": "code",
   "execution_count": 27,
   "id": "de927853-0986-4a3a-803f-8ba497755bc8",
   "metadata": {
    "tags": []
   },
   "outputs": [],
   "source": [
    "model = word2vec.Word2Vec(docs, **w2v_params)"
   ]
  },
  {
   "cell_type": "code",
   "execution_count": 28,
   "id": "36851187-ce16-4b4f-8dfb-88153d3d47d4",
   "metadata": {
    "tags": []
   },
   "outputs": [
    {
     "data": {
      "text/plain": [
       "array([[-0.03868556,  0.21934517,  0.35239646, ...,  0.7828589 ,\n",
       "        -0.31337866,  0.12883148],\n",
       "       [-0.29524717, -0.30323213, -0.59161323, ...,  0.15516481,\n",
       "        -0.04994084, -0.8938875 ],\n",
       "       [ 0.04115698, -0.17666396,  0.28215903, ..., -0.15221389,\n",
       "         0.06701489, -0.02697449],\n",
       "       ...,\n",
       "       [ 0.15146533, -0.23200135,  0.1642928 , ...,  0.11276452,\n",
       "         0.07608485, -0.073874  ],\n",
       "       [ 0.02789322,  0.03042475,  0.11556743, ..., -0.05955997,\n",
       "        -0.09291907,  0.01019334],\n",
       "       [ 0.00538412, -0.2820923 ,  0.08695275, ..., -0.08120006,\n",
       "        -0.07713098,  0.0100612 ]], dtype=float32)"
      ]
     },
     "execution_count": 28,
     "metadata": {},
     "output_type": "execute_result"
    }
   ],
   "source": [
    "model.wv.vectors"
   ]
  },
  {
   "cell_type": "markdown",
   "id": "3efa38a9-863e-42aa-932a-7688c135c690",
   "metadata": {},
   "source": [
    "# Visualize with tSNE"
   ]
  },
  {
   "cell_type": "code",
   "execution_count": 35,
   "id": "f288af25-1054-4305-b402-11c6b70064ac",
   "metadata": {
    "tags": []
   },
   "outputs": [],
   "source": [
    "VOCAB['gsid'] = pd.DataFrame([i for i in vocab.items()], columns=['gsid', 'term_str']).set_index('term_str')\n",
    "VOCAB = VOCAB.dropna(subset='gsid').copy()\n",
    "VOCAB.gsid = VOCAB.gsid.astype(int)"
   ]
  },
  {
   "cell_type": "code",
   "execution_count": 36,
   "id": "8718109c-1079-4998-bd45-7b0f22ffcd44",
   "metadata": {
    "tags": []
   },
   "outputs": [],
   "source": [
    "def get_vector(row):\n",
    "    w = row.name\n",
    "    try:\n",
    "        vec = model.wv[w]\n",
    "    except KeyError as e:\n",
    "        vec = None\n",
    "    return vec"
   ]
  },
  {
   "cell_type": "code",
   "execution_count": 37,
   "id": "1a28db30-a093-4283-abb4-77fbce13a8ed",
   "metadata": {
    "tags": []
   },
   "outputs": [],
   "source": [
    "WV = pd.DataFrame(VOCAB.apply(get_vector, axis=1).dropna()).apply(lambda x: pd.Series(x[0]), axis=1)"
   ]
  },
  {
   "cell_type": "markdown",
   "id": "72cebd2a-0a30-4a61-a36e-4af68284e0c2",
   "metadata": {},
   "source": [
    "## Use ScikitLearn's TSNE library"
   ]
  },
  {
   "cell_type": "code",
   "execution_count": 38,
   "id": "1bbee4a2-7518-4cfb-b5f5-781f8b71cfb3",
   "metadata": {
    "tags": []
   },
   "outputs": [],
   "source": [
    "tsne_engine = TSNE(perplexity=40, n_components=2, init='pca', n_iter=2500, random_state=23)"
   ]
  },
  {
   "cell_type": "code",
   "execution_count": 39,
   "id": "964d20be-69e3-499b-942f-96b31865f1e7",
   "metadata": {
    "tags": []
   },
   "outputs": [],
   "source": [
    "tsne_model = tsne_engine.fit_transform(WV.to_numpy())"
   ]
  },
  {
   "cell_type": "code",
   "execution_count": null,
   "id": "857c8955-6c61-41a4-a0e9-798afb19f777",
   "metadata": {},
   "outputs": [],
   "source": [
    "TSNE = pd.DataFrame(tsne_model, columns=['x','y'], index=WV.index)"
   ]
  },
  {
   "cell_type": "code",
   "execution_count": null,
   "id": "5e3dc0ff-ae51-4112-a46c-0d3aebf6ae47",
   "metadata": {},
   "outputs": [],
   "source": [
    "TSNE"
   ]
  },
  {
   "cell_type": "markdown",
   "id": "fd9bd683-75a9-4dbf-9856-668d82424fa7",
   "metadata": {},
   "source": [
    "# Semantic Algebra"
   ]
  },
  {
   "cell_type": "markdown",
   "id": "de970a27-ff42-48af-8f51-86dff18d5a2d",
   "metadata": {},
   "source": [
    "## Analogies\n",
    "\n",
    "$A : B :: C : D? \\rightarrow B - A + C = D$\n"
   ]
  },
  {
   "cell_type": "code",
   "execution_count": 33,
   "id": "89052e5b-8598-4cbf-a740-89edeab5c0e0",
   "metadata": {
    "tags": []
   },
   "outputs": [],
   "source": [
    "def complete_analogy(A, B, C, n=2):\n",
    "    try:\n",
    "        cols = ['term', 'sim']\n",
    "        return pd.DataFrame(model.wv.most_similar(positive=[B, C], negative=[A])[0:n], columns=cols)\n",
    "    except KeyError as e:\n",
    "        print('Error:', e)\n",
    "        return None\n",
    "    \n",
    "def get_most_similar(positive, negative=None):\n",
    "    return pd.DataFrame(model.wv.most_similar(positive, negative), columns=['term', 'sim'])"
   ]
  },
  {
   "cell_type": "code",
   "execution_count": null,
   "id": "1735f8fd-b5e7-484e-b276-cf05e919abe2",
   "metadata": {},
   "outputs": [],
   "source": []
  }
 ],
 "metadata": {
  "kernelspec": {
   "display_name": "Python 3 (ipykernel)",
   "language": "python",
   "name": "python3"
  },
  "language_info": {
   "codemirror_mode": {
    "name": "ipython",
    "version": 3
   },
   "file_extension": ".py",
   "mimetype": "text/x-python",
   "name": "python",
   "nbconvert_exporter": "python",
   "pygments_lexer": "ipython3",
   "version": "3.11.5"
  }
 },
 "nbformat": 4,
 "nbformat_minor": 5
}

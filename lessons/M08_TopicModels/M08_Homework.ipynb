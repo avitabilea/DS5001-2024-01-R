{
 "cells": [
  {
   "cell_type": "markdown",
   "id": "8f9627ff-cb7f-4fd0-97d9-d9a1c584d3df",
   "metadata": {},
   "source": [
    "# Topic Modeling\n",
    "\n",
    "```yaml\n",
    "Course:    DS 5001 \n",
    "Module:    08 Homework\n",
    "Topic:     Topic modeling homework\n",
    "Author:    Andrew Avitabile\n",
    "Date:      23 March 2024\n",
    "```"
   ]
  },
  {
   "cell_type": "markdown",
   "id": "4aa1811a-7614-4f7c-9ffc-d9d60682c9f5",
   "metadata": {},
   "source": [
    "# Set Up"
   ]
  },
  {
   "cell_type": "markdown",
   "id": "2d6238f8-ad2f-4702-8361-81ae7e4481c8",
   "metadata": {
    "tags": []
   },
   "source": [
    "## Config"
   ]
  },
  {
   "cell_type": "code",
   "execution_count": 1,
   "id": "b4fed457-2fcc-498d-812a-0822e3c19d3f",
   "metadata": {
    "tags": []
   },
   "outputs": [],
   "source": [
    "import configparser\n",
    "config = configparser.ConfigParser()\n",
    "config.read('../../../env.ini')\n",
    "data_home = config['DEFAULT']['data_home']\n",
    "output_dir = config['DEFAULT']['output_dir']\n",
    "local_lib = config['DEFAULT']['local_lib']"
   ]
  },
  {
   "cell_type": "markdown",
   "id": "d4962845-d88d-4328-bfe2-b5b123ac753d",
   "metadata": {
    "tags": []
   },
   "source": [
    "## Imports"
   ]
  },
  {
   "cell_type": "code",
   "execution_count": 26,
   "id": "57c4e57a-1d0c-42b4-95ea-8f14c0d2d971",
   "metadata": {
    "tags": []
   },
   "outputs": [],
   "source": [
    "import matplotlib.pyplot as plt\n",
    "import pandas as pd\n",
    "import numpy as np\n",
    "from sklearn.feature_extraction.text import CountVectorizer\n",
    "from sklearn.decomposition import LatentDirichletAllocation as LDA\n",
    "import plotly_express as px\n",
    "from scipy.stats import entropy"
   ]
  },
  {
   "cell_type": "code",
   "execution_count": 3,
   "id": "dad7cdc1-4c07-40ad-a8ed-a99dfd3e9e70",
   "metadata": {
    "tags": []
   },
   "outputs": [],
   "source": [
    "data_prefix = 'novels'\n",
    "colors = \"YlGnBu\"\n",
    "OHCO = ['book_id', 'chap_num', 'para_num']\n",
    "PARA = OHCO[:3]\n",
    "CHAP = OHCO[:2]\n",
    "BOOK = OHCO[:1]"
   ]
  },
  {
   "cell_type": "code",
   "execution_count": 4,
   "id": "17a85832-b6b9-461e-885e-5eb14b31dd5b",
   "metadata": {},
   "outputs": [],
   "source": [
    "BAG = CHAP"
   ]
  },
  {
   "cell_type": "markdown",
   "id": "d6ad8023-8838-4110-9327-8176773b3eaa",
   "metadata": {},
   "source": [
    "# Get the Data"
   ]
  },
  {
   "cell_type": "code",
   "execution_count": 5,
   "id": "04b2c098-6c1d-4ac4-8b34-93b1acd26cf4",
   "metadata": {
    "tags": []
   },
   "outputs": [],
   "source": [
    "CORPUS = pd.read_csv(f'{data_home}/novels/{data_prefix}-CORPUS.csv')\n",
    "LIB = pd.read_csv(f'{data_home}/novels/{data_prefix}-LIB.csv')"
   ]
  },
  {
   "cell_type": "markdown",
   "id": "4fdbd7b1-0359-46b1-91f3-059f6962a366",
   "metadata": {},
   "source": [
    "Create a short label for each author for display purposes."
   ]
  },
  {
   "cell_type": "markdown",
   "id": "4c8016e8-e61e-421b-9a0b-776b29080144",
   "metadata": {},
   "source": [
    "## Data Prep"
   ]
  },
  {
   "cell_type": "code",
   "execution_count": 6,
   "id": "fca6930a-bc0c-42b1-911f-f0899065ee4d",
   "metadata": {
    "tags": []
   },
   "outputs": [],
   "source": [
    "LIB['key'] =  + LIB.author_id + \" - \" + LIB.book_id + \" - \" + LIB.genre_id"
   ]
  },
  {
   "cell_type": "code",
   "execution_count": 7,
   "id": "a5cf9840-d2c2-4032-be77-8b12e716a611",
   "metadata": {
    "tags": []
   },
   "outputs": [],
   "source": [
    "OHCO = ['book_id', 'chap_id', 'para_num']\n",
    "PARA = OHCO[:3]\n",
    "CHAP = OHCO[:2]\n",
    "BOOK = OHCO[:1]"
   ]
  },
  {
   "cell_type": "markdown",
   "id": "9a98020d-2fc6-47f6-b996-2770b89fc2f3",
   "metadata": {},
   "source": [
    "## Create DOCS"
   ]
  },
  {
   "cell_type": "markdown",
   "id": "da6040e9-1bdb-4c86-a037-d09df3fbaa30",
   "metadata": {},
   "source": [
    "### Chapters as bag"
   ]
  },
  {
   "cell_type": "code",
   "execution_count": 8,
   "id": "4ae1dd98-4dd0-476f-a0b5-b072341dcf6e",
   "metadata": {
    "tags": []
   },
   "outputs": [],
   "source": [
    "BAG = CHAP\n",
    "\n",
    "#Filtering to nouns\n",
    "DOCS_CHAP = CORPUS[CORPUS.pos.str.match(r'^NNS?$')]\\\n",
    "    .groupby(BAG).term_str\\\n",
    "    .apply(lambda x: ' '.join(x))\\\n",
    "    .to_frame()\\\n",
    "    .rename(columns={'term_str':'doc_str'})"
   ]
  },
  {
   "cell_type": "markdown",
   "id": "e18bba00-a3a2-4b73-8213-cf9b0c50dc9f",
   "metadata": {},
   "source": [
    "### Paragraphs as bag"
   ]
  },
  {
   "cell_type": "code",
   "execution_count": 9,
   "id": "406f9acf-b845-407b-a48d-5f5c1ac88746",
   "metadata": {
    "tags": []
   },
   "outputs": [],
   "source": [
    "BAG = PARA\n",
    "\n",
    "#Filtering to nouns\n",
    "DOCS_PARA = CORPUS[CORPUS.pos.str.match(r'^NNS?$')]\\\n",
    "    .groupby(BAG).term_str\\\n",
    "    .apply(lambda x: ' '.join(x))\\\n",
    "    .to_frame()\\\n",
    "    .rename(columns={'term_str':'doc_str'})"
   ]
  },
  {
   "cell_type": "markdown",
   "id": "f7c4e060-2982-4836-b06a-baba0140d1cd",
   "metadata": {},
   "source": [
    "# Topic Modeling"
   ]
  },
  {
   "cell_type": "code",
   "execution_count": 10,
   "id": "4a5b347b-d383-4cfb-8107-442b54099915",
   "metadata": {
    "tags": []
   },
   "outputs": [],
   "source": [
    "def create_vector_space(documents, max_features=4000, ngram_range=(1, 2), stop_words='english'):\n",
    "    # Create Vector Space with Scikit Learn's CountVectorizer\n",
    "    count_engine = CountVectorizer(max_features=max_features, ngram_range=ngram_range, stop_words=stop_words)\n",
    "    count_model = count_engine.fit_transform(documents.doc_str)\n",
    "    TERMS = count_engine.get_feature_names_out()\n",
    "\n",
    "    # Create VOCAB from terms\n",
    "    VOCAB = pd.DataFrame(index=TERMS)\n",
    "    VOCAB.index.name = 'term_str'\n",
    "\n",
    "    # Create Document-Term Matrix (DTM)\n",
    "    DTM = pd.DataFrame(count_model.toarray(), index=documents.index, columns=TERMS)\n",
    "\n",
    "    return DTM, VOCAB, count_model, TERMS"
   ]
  },
  {
   "cell_type": "code",
   "execution_count": 11,
   "id": "53bc536a-8c43-4f8b-b38c-73c3f99a6e3d",
   "metadata": {
    "tags": []
   },
   "outputs": [],
   "source": [
    "vector_space_chap = create_vector_space(documents=DOCS_CHAP, max_features=4000, ngram_range=(1, 2), stop_words='english')"
   ]
  },
  {
   "cell_type": "code",
   "execution_count": 12,
   "id": "45412420-dc91-4f62-8ec2-8f863769c659",
   "metadata": {
    "tags": []
   },
   "outputs": [],
   "source": [
    "vector_space_para = create_vector_space(documents=DOCS_PARA, max_features=4000, ngram_range=(1, 2), stop_words='english')"
   ]
  },
  {
   "cell_type": "code",
   "execution_count": 13,
   "id": "fd26db44-7f44-4a46-895a-403849808f7a",
   "metadata": {
    "tags": []
   },
   "outputs": [],
   "source": [
    "DTM_CHAP = vector_space_chap[0]\n",
    "VOCAB_CHAP = vector_space_chap[1]\n",
    "COUNT_MODEL_CHAP = vector_space_chap[2]\n",
    "TERMS_CHAP = vector_space_chap[3]"
   ]
  },
  {
   "cell_type": "code",
   "execution_count": 14,
   "id": "e2216f5b-a22c-4fe4-b7af-88993edbec9e",
   "metadata": {
    "tags": []
   },
   "outputs": [],
   "source": [
    "DTM_PARA = vector_space_para[0]\n",
    "VOCAB_PARA = vector_space_para[1]\n",
    "COUNT_MODEL_PARA = vector_space_para[2]\n",
    "TERMS_PARA = vector_space_para[3]"
   ]
  },
  {
   "cell_type": "code",
   "execution_count": 15,
   "id": "c5a63b64-f7d1-49a3-9ab4-452154d9c362",
   "metadata": {
    "tags": []
   },
   "outputs": [],
   "source": [
    "VOCAB_CHAP['doc_count'] = DTM_CHAP.astype('bool').astype('int').sum()\n",
    "DOCS_CHAP['term_count'] = DTM_CHAP.sum(1)"
   ]
  },
  {
   "cell_type": "code",
   "execution_count": 16,
   "id": "ada773b5-43b9-494e-973a-82deba3d5add",
   "metadata": {
    "tags": []
   },
   "outputs": [],
   "source": [
    "VOCAB_PARA['doc_count'] = DTM_PARA.astype('bool').astype('int').sum()\n",
    "DOCS_PARA['term_count'] = DTM_PARA.sum(1)"
   ]
  },
  {
   "cell_type": "markdown",
   "id": "0b7baf2c-bb33-4714-8ccf-eaa32c564b3b",
   "metadata": {},
   "source": [
    "# Generate Topic Models\n",
    "\n",
    "We run Scikit Learn's [LatentDirichletAllocation algorithm](https://scikit-learn.org/stable/modules/generated/sklearn.decomposition.LatentDirichletAllocation.html#sklearn.decomposition.LatentDirichletAllocation) and extract the THETA and PHI tables."
   ]
  },
  {
   "cell_type": "code",
   "execution_count": 17,
   "id": "f63eab40-7db7-4aaa-b7a0-87ec1af92e73",
   "metadata": {
    "tags": []
   },
   "outputs": [],
   "source": [
    "def run_LDA(documents, count_model, terms, n_topics = 20, max_iter = 5, learning_offset=50, random_state=0, n_terms_per_topic=7):\n",
    "    #Run LDA\n",
    "    lda_engine = LDA(n_components=n_topics, max_iter=max_iter, learning_offset=learning_offset, random_state=random_state)\n",
    "\n",
    "    #Get topic names\n",
    "    TNAMES = [f\"T{str(x).zfill(len(str(n_topics)))}\" for x in range(n_topics)]\n",
    "\n",
    "    #Create model\n",
    "    lda_model = lda_engine.fit_transform(count_model)\n",
    "\n",
    "    #Get Theta\n",
    "    THETA = pd.DataFrame(lda_model, index=documents.index)\n",
    "    THETA.columns.name = 'topic_id'\n",
    "    THETA.columns = TNAMES\n",
    "\n",
    "    #Get PHI\n",
    "    PHI = pd.DataFrame(lda_engine.components_, columns=terms, index=TNAMES)\n",
    "    PHI.index.name = 'topic_id'\n",
    "    PHI.columns.name = 'term_str'\n",
    "\n",
    "    #Create topics\n",
    "    TOPICS = PHI.stack().groupby('topic_id')\\\n",
    "        .apply(lambda x: ' '.join(x.sort_values(ascending=False).head(n_terms_per_topic).reset_index().term_str))\\\n",
    "        .to_frame('top_terms')\n",
    "    \n",
    "    return TOPICS, THETA, PHI"
   ]
  },
  {
   "cell_type": "code",
   "execution_count": 18,
   "id": "4748b9cb-1698-432a-aa74-d0b4ded7d75e",
   "metadata": {
    "tags": []
   },
   "outputs": [],
   "source": [
    "LDA_PARA = run_LDA(documents=DOCS_PARA, count_model=COUNT_MODEL_PARA, terms = TERMS_PARA, n_topics = 20, max_iter = 5, learning_offset=50, random_state=0, n_terms_per_topic=7)"
   ]
  },
  {
   "cell_type": "code",
   "execution_count": 19,
   "id": "2d087c6a-2bd9-4325-a3be-3d08b227207b",
   "metadata": {
    "tags": []
   },
   "outputs": [],
   "source": [
    "TOPICS_PARA = LDA_PARA[0]\n",
    "THETA_PARA = LDA_PARA[1]\n",
    "PHI_PARA = LDA_PARA[2]"
   ]
  },
  {
   "cell_type": "code",
   "execution_count": 21,
   "id": "4f3acbb7-fa51-4309-8c1d-e5a681ed719d",
   "metadata": {
    "tags": []
   },
   "outputs": [],
   "source": [
    "LDA_CHAP = run_LDA(documents=DOCS_CHAP, count_model=COUNT_MODEL_CHAP, terms = TERMS_CHAP, n_topics = 20, max_iter = 5, learning_offset=50, random_state=0, n_terms_per_topic=7)"
   ]
  },
  {
   "cell_type": "code",
   "execution_count": 22,
   "id": "4bcdddc8-1508-46e6-98e5-73679d678458",
   "metadata": {
    "tags": []
   },
   "outputs": [],
   "source": [
    "TOPICS_CHAP = LDA_CHAP[0]\n",
    "THETA_CHAP = LDA_CHAP[1]\n",
    "PHI_CHAP = LDA_CHAP[2]"
   ]
  },
  {
   "cell_type": "markdown",
   "id": "a5eb84d0-bc65-46da-942e-eb605ee7cb55",
   "metadata": {},
   "source": [
    "# Questions"
   ]
  },
  {
   "cell_type": "markdown",
   "id": "03a8c4ed-175c-4d85-b1ee-fc7c78d08665",
   "metadata": {},
   "source": [
    "1. Use the PHI table from each model to compute the entropy H of the distribution over topics. Which bag generates a lower entropy distribution? Hint: To get H work with the L1 normalized vector of word weight sums by topic in the PHI table."
   ]
  },
  {
   "cell_type": "markdown",
   "id": "ea88a7a0-d6d2-4315-a5d9-f385c040c131",
   "metadata": {},
   "source": [
    "Using paragraphs as bags has lower entropy"
   ]
  },
  {
   "cell_type": "code",
   "execution_count": 23,
   "id": "c94d70f5-f7f0-4efb-bb29-dcb0751a000c",
   "metadata": {
    "tags": []
   },
   "outputs": [],
   "source": [
    "def compute_entropy(phi_table):\n",
    "    # Sum probabilities of words for each topic\n",
    "    word_weight_sums_by_topic = phi_table.sum(axis=1)\n",
    "    \n",
    "    # L1 normalize the word weight sums by topic\n",
    "    normalized_topic_distributions = phi_table.div(word_weight_sums_by_topic, axis=0)\n",
    "\n",
    "    # Compute entropy for each topic distribution, using entropy function from scipy.stats\n",
    "    entropies = {}\n",
    "    for topic, topic_distribution in normalized_topic_distributions.iterrows():\n",
    "        entropy_value = entropy(topic_distribution, base=2)\n",
    "        entropies[topic] = entropy_value\n",
    "        \n",
    "    # Convert the dictionary to a DataFrame\n",
    "    entropy_df = pd.DataFrame(list(entropies.items()), columns=['topic_id', 'Entropy'])\n",
    "    entropy_df.set_index('topic_id', inplace=True)\n",
    "    \n",
    "    # Sort topics by entropy in descending order\n",
    "    sorted_topics = sorted(entropy_df.items(), key=lambda x: x[1], reverse=True)\n",
    "\n",
    "    return entropy_df"
   ]
  },
  {
   "cell_type": "code",
   "execution_count": 24,
   "id": "46b7b709-2871-4e5d-8532-69303915dd23",
   "metadata": {
    "tags": []
   },
   "outputs": [],
   "source": [
    "entropies_CHAP = compute_entropy(PHI_CHAP)\n",
    "entropies_PARA = compute_entropy(PHI_PARA)"
   ]
  },
  {
   "cell_type": "code",
   "execution_count": 27,
   "id": "e52812dc-4552-4bca-8ac2-69616da623f4",
   "metadata": {
    "tags": []
   },
   "outputs": [
    {
     "data": {
      "image/png": "[encoded data removed]",
      "text/plain": [
       "<Figure size 640x480 with 1 Axes>"
      ]
     },
     "metadata": {},
     "output_type": "display_data"
    }
   ],
   "source": [
    "# Plot histogram for entropies_CHAP\n",
    "plt.hist(entropies_CHAP['Entropy'], bins=10, color='skyblue', alpha=0.5, edgecolor='black', label='CHAP Entropy')\n",
    "\n",
    "# Plot histogram for entropies_PARA\n",
    "plt.hist(entropies_PARA['Entropy'], bins=10, color='salmon', alpha=0.5, edgecolor='black', label='PARA Entropy')\n",
    "\n",
    "# Calculate mean entropy for each DataFrame\n",
    "mean_entropy_CHAP = entropies_CHAP['Entropy'].mean()\n",
    "mean_entropy_PARA = entropies_PARA['Entropy'].mean()\n",
    "\n",
    "# Add mean entropy lines\n",
    "plt.axvline(mean_entropy_CHAP, color='blue', linestyle='--', linewidth=2, label='CHAP Mean Entropy')\n",
    "plt.axvline(mean_entropy_PARA, color='red', linestyle='--', linewidth=2, label='PARA Mean Entropy')\n",
    "\n",
    "# Add labels and title\n",
    "plt.xlabel('Entropy')\n",
    "plt.ylabel('Frequency')\n",
    "plt.title('Histogram of Topic Entropy')\n",
    "plt.legend()\n",
    "\n",
    "# Show plot\n",
    "plt.show()"
   ]
  },
  {
   "cell_type": "markdown",
   "id": "ad2e7073-7244-4072-8881-f8092e871188",
   "metadata": {},
   "source": [
    "2. Sort the topics in each model's PHI table by topic entropy in descending order. Are the first topics in the two models about the same? In other words, do they yield similar interpretations?"
   ]
  },
  {
   "cell_type": "markdown",
   "id": "91550077-3cc8-4e2e-b360-9a8cc75ef534",
   "metadata": {},
   "source": [
    "No, they seem to yield top topics with different interpretations."
   ]
  },
  {
   "cell_type": "code",
   "execution_count": 28,
   "id": "4c158532-12a6-4d86-9cec-11a892e72ea2",
   "metadata": {
    "tags": []
   },
   "outputs": [],
   "source": [
    "# Print the first topics in both models\n",
    "TOPICS_CHAP_W_ENT = pd.merge(TOPICS_CHAP, entropies_CHAP, on='topic_id', how='left')\n",
    "TOPICS_PARA_W_ENT = pd.merge(TOPICS_CHAP, entropies_PARA, on='topic_id', how='left')"
   ]
  },
  {
   "cell_type": "code",
   "execution_count": 29,
   "id": "9eb67ef6-9e04-44fc-9bf5-68a93c2fa41f",
   "metadata": {
    "tags": []
   },
   "outputs": [
    {
     "data": {
      "text/html": [
       "<div>\n",
       "<style scoped>\n",
       "    .dataframe tbody tr th:only-of-type {\n",
       "        vertical-align: middle;\n",
       "    }\n",
       "\n",
       "    .dataframe tbody tr th {\n",
       "        vertical-align: top;\n",
       "    }\n",
       "\n",
       "    .dataframe thead th {\n",
       "        text-align: right;\n",
       "    }\n",
       "</style>\n",
       "<table border=\"1\" class=\"dataframe\">\n",
       "  <thead>\n",
       "    <tr style=\"text-align: right;\">\n",
       "      <th></th>\n",
       "      <th>top_terms</th>\n",
       "      <th>Entropy</th>\n",
       "    </tr>\n",
       "    <tr>\n",
       "      <th>topic_id</th>\n",
       "      <th></th>\n",
       "      <th></th>\n",
       "    </tr>\n",
       "  </thead>\n",
       "  <tbody>\n",
       "    <tr>\n",
       "      <th>T08</th>\n",
       "      <td>regardless pauses vaults infamy hastily le ind...</td>\n",
       "      <td>11.965784</td>\n",
       "    </tr>\n",
       "    <tr>\n",
       "      <th>T11</th>\n",
       "      <td>daughter faith rumours stories answer women farm</td>\n",
       "      <td>10.968628</td>\n",
       "    </tr>\n",
       "    <tr>\n",
       "      <th>T02</th>\n",
       "      <td>man time way hand room day night</td>\n",
       "      <td>10.318257</td>\n",
       "    </tr>\n",
       "    <tr>\n",
       "      <th>T16</th>\n",
       "      <td>woods mind air scene heart voice chateau</td>\n",
       "      <td>10.189777</td>\n",
       "    </tr>\n",
       "    <tr>\n",
       "      <th>T00</th>\n",
       "      <td>son father man heart time hand chamber</td>\n",
       "      <td>10.079680</td>\n",
       "    </tr>\n",
       "  </tbody>\n",
       "</table>\n",
       "</div>"
      ],
      "text/plain": [
       "                                                  top_terms    Entropy\n",
       "topic_id                                                              \n",
       "T08       regardless pauses vaults infamy hastily le ind...  11.965784\n",
       "T11        daughter faith rumours stories answer women farm  10.968628\n",
       "T02                        man time way hand room day night  10.318257\n",
       "T16                woods mind air scene heart voice chateau  10.189777\n",
       "T00                  son father man heart time hand chamber  10.079680"
      ]
     },
     "execution_count": 29,
     "metadata": {},
     "output_type": "execute_result"
    }
   ],
   "source": [
    "TOPICS_CHAP_W_ENT.sort_values(by='Entropy', ascending=False).head(5)"
   ]
  },
  {
   "cell_type": "code",
   "execution_count": 30,
   "id": "68543813-5ba7-4ffc-bd42-2cee24be5845",
   "metadata": {
    "tags": []
   },
   "outputs": [
    {
     "data": {
      "text/html": [
       "<div>\n",
       "<style scoped>\n",
       "    .dataframe tbody tr th:only-of-type {\n",
       "        vertical-align: middle;\n",
       "    }\n",
       "\n",
       "    .dataframe tbody tr th {\n",
       "        vertical-align: top;\n",
       "    }\n",
       "\n",
       "    .dataframe thead th {\n",
       "        text-align: right;\n",
       "    }\n",
       "</style>\n",
       "<table border=\"1\" class=\"dataframe\">\n",
       "  <thead>\n",
       "    <tr style=\"text-align: right;\">\n",
       "      <th></th>\n",
       "      <th>top_terms</th>\n",
       "      <th>Entropy</th>\n",
       "    </tr>\n",
       "    <tr>\n",
       "      <th>topic_id</th>\n",
       "      <th></th>\n",
       "      <th></th>\n",
       "    </tr>\n",
       "  </thead>\n",
       "  <tbody>\n",
       "    <tr>\n",
       "      <th>T05</th>\n",
       "      <td>man eyes life time day men death</td>\n",
       "      <td>9.760595</td>\n",
       "    </tr>\n",
       "    <tr>\n",
       "      <th>T14</th>\n",
       "      <td>mountains way guides light sound gate man</td>\n",
       "      <td>9.687793</td>\n",
       "    </tr>\n",
       "    <tr>\n",
       "      <th>T08</th>\n",
       "      <td>regardless pauses vaults infamy hastily le ind...</td>\n",
       "      <td>9.652509</td>\n",
       "    </tr>\n",
       "    <tr>\n",
       "      <th>T10</th>\n",
       "      <td>time heart friend family brother moment room</td>\n",
       "      <td>9.637622</td>\n",
       "    </tr>\n",
       "    <tr>\n",
       "      <th>T12</th>\n",
       "      <td>moor man night face time eyes window</td>\n",
       "      <td>9.511115</td>\n",
       "    </tr>\n",
       "  </tbody>\n",
       "</table>\n",
       "</div>"
      ],
      "text/plain": [
       "                                                  top_terms   Entropy\n",
       "topic_id                                                             \n",
       "T05                        man eyes life time day men death  9.760595\n",
       "T14               mountains way guides light sound gate man  9.687793\n",
       "T08       regardless pauses vaults infamy hastily le ind...  9.652509\n",
       "T10            time heart friend family brother moment room  9.637622\n",
       "T12                    moor man night face time eyes window  9.511115"
      ]
     },
     "execution_count": 30,
     "metadata": {},
     "output_type": "execute_result"
    }
   ],
   "source": [
    "TOPICS_PARA_W_ENT.sort_values(by='Entropy', ascending=False).head(5)"
   ]
  },
  {
   "cell_type": "markdown",
   "id": "9a402dc1-4b56-4ea7-981b-61054d1e1ac1",
   "metadata": {},
   "source": [
    "3. What topic from each model is most strongly associated with each genre? Note that your answer have four parts."
   ]
  },
  {
   "cell_type": "markdown",
   "id": "ef02666b-996c-493e-b2a7-c01b4746a7b1",
   "metadata": {},
   "source": [
    "Using chapters as the bag: \n",
    "- Topic T01 is most strongly associated with detective novels.\n",
    "- Topic T10 is most strongly associated with gothic novels.\n",
    "    \n",
    "Using paragraphs as the bag:\n",
    "- Topic T11 is most strongly associated with detective novels.\n",
    "- Topic T10 is most strongly associated with gothic novels."
   ]
  },
  {
   "cell_type": "code",
   "execution_count": 78,
   "id": "1558d9ed-2d32-4c21-9d86-1cde93c76c4f",
   "metadata": {
    "tags": []
   },
   "outputs": [],
   "source": [
    "THETA_CHAP_CL = pd.merge(THETA_CHAP.reset_index(), LIB, on='book_id', how='left').set_index(['book_id', 'genre_id', 'author_id', 'key', 'chap_id'])\n",
    "THETA_PARA_CL = pd.merge(THETA_PARA.reset_index(), LIB, on='book_id', how='left').set_index(['book_id', 'genre_id', 'author_id', 'key', 'chap_id', 'para_num'])"
   ]
  },
  {
   "cell_type": "code",
   "execution_count": 74,
   "id": "fdea4e2e-8509-49f3-b935-b9a780a5f595",
   "metadata": {
    "tags": []
   },
   "outputs": [
    {
     "data": {
      "text/html": [
       "<div>\n",
       "<style scoped>\n",
       "    .dataframe tbody tr th:only-of-type {\n",
       "        vertical-align: middle;\n",
       "    }\n",
       "\n",
       "    .dataframe tbody tr th {\n",
       "        vertical-align: top;\n",
       "    }\n",
       "\n",
       "    .dataframe thead th {\n",
       "        text-align: right;\n",
       "    }\n",
       "</style>\n",
       "<table border=\"1\" class=\"dataframe\">\n",
       "  <thead>\n",
       "    <tr style=\"text-align: right;\">\n",
       "      <th></th>\n",
       "      <th>genre_id</th>\n",
       "      <th>topic_id</th>\n",
       "      <th>top_terms</th>\n",
       "    </tr>\n",
       "  </thead>\n",
       "  <tbody>\n",
       "    <tr>\n",
       "      <th>0</th>\n",
       "      <td>d</td>\n",
       "      <td>T01</td>\n",
       "      <td>room yes man time door face way</td>\n",
       "    </tr>\n",
       "    <tr>\n",
       "      <th>1</th>\n",
       "      <td>g</td>\n",
       "      <td>T10</td>\n",
       "      <td>time heart friend family brother moment room</td>\n",
       "    </tr>\n",
       "  </tbody>\n",
       "</table>\n",
       "</div>"
      ],
      "text/plain": [
       "  genre_id topic_id                                     top_terms\n",
       "0        d      T01               room yes man time door face way\n",
       "1        g      T10  time heart friend family brother moment room"
      ]
     },
     "execution_count": 74,
     "metadata": {},
     "output_type": "execute_result"
    }
   ],
   "source": [
    "topic_by_genre_CHAP = THETA_CHAP_CL.groupby('genre_id').mean().idxmax(axis=1)\n",
    "topic_by_genre_CHAP = pd.DataFrame({'topic_id': topic_by_genre_CHAP}).reset_index()\n",
    "pd.merge(topic_by_genre_CHAP, TOPICS_CHAP, on='topic_id', how='inner')"
   ]
  },
  {
   "cell_type": "code",
   "execution_count": 79,
   "id": "999b026a-76ea-4168-ac59-d7950619517a",
   "metadata": {
    "tags": []
   },
   "outputs": [
    {
     "data": {
      "text/html": [
       "<div>\n",
       "<style scoped>\n",
       "    .dataframe tbody tr th:only-of-type {\n",
       "        vertical-align: middle;\n",
       "    }\n",
       "\n",
       "    .dataframe tbody tr th {\n",
       "        vertical-align: top;\n",
       "    }\n",
       "\n",
       "    .dataframe thead th {\n",
       "        text-align: right;\n",
       "    }\n",
       "</style>\n",
       "<table border=\"1\" class=\"dataframe\">\n",
       "  <thead>\n",
       "    <tr style=\"text-align: right;\">\n",
       "      <th></th>\n",
       "      <th>genre_id</th>\n",
       "      <th>topic_id</th>\n",
       "      <th>top_terms</th>\n",
       "    </tr>\n",
       "  </thead>\n",
       "  <tbody>\n",
       "    <tr>\n",
       "      <th>0</th>\n",
       "      <td>d</td>\n",
       "      <td>T11</td>\n",
       "      <td>lady business right matter things years mind</td>\n",
       "    </tr>\n",
       "    <tr>\n",
       "      <th>1</th>\n",
       "      <td>g</td>\n",
       "      <td>T10</td>\n",
       "      <td>mind day night hour hope steps time</td>\n",
       "    </tr>\n",
       "  </tbody>\n",
       "</table>\n",
       "</div>"
      ],
      "text/plain": [
       "  genre_id topic_id                                     top_terms\n",
       "0        d      T11  lady business right matter things years mind\n",
       "1        g      T10           mind day night hour hope steps time"
      ]
     },
     "execution_count": 79,
     "metadata": {},
     "output_type": "execute_result"
    }
   ],
   "source": [
    "topic_by_genre_PARA = THETA_PARA_CL.groupby('genre_id').mean().idxmax(axis=1)\n",
    "topic_by_genre_PARA = pd.DataFrame({'topic_id': topic_by_genre_PARA}).reset_index()\n",
    "pd.merge(topic_by_genre_PARA, TOPICS_PARA, on='topic_id', how='inner')"
   ]
  },
  {
   "cell_type": "markdown",
   "id": "33afd09c-aa0d-4c53-abb2-58322450588a",
   "metadata": {
    "tags": []
   },
   "source": [
    "4. Using the THETA table from the Chapters model, get the mean topic weights for each book. Which book is most strongly associated with the gothic genre g, based on the weight of that genre's most representative topic (as discovered in the previous question)?"
   ]
  },
  {
   "cell_type": "markdown",
   "id": "5d78bf6a-ffc1-4514-b87f-3e43c18a7dc4",
   "metadata": {
    "tags": []
   },
   "source": [
    "Assuming T10 is the topic most closely associated with gothic novels, Frankenstein is most strongly associated with the gothic genre."
   ]
  },
  {
   "cell_type": "code",
   "execution_count": 95,
   "id": "ba26e7d7-11a8-47df-b713-efb856e7f67d",
   "metadata": {
    "tags": []
   },
   "outputs": [
    {
     "data": {
      "text/html": [
       "<div>\n",
       "<style scoped>\n",
       "    .dataframe tbody tr th:only-of-type {\n",
       "        vertical-align: middle;\n",
       "    }\n",
       "\n",
       "    .dataframe tbody tr th {\n",
       "        vertical-align: top;\n",
       "    }\n",
       "\n",
       "    .dataframe thead th {\n",
       "        text-align: right;\n",
       "    }\n",
       "</style>\n",
       "<table border=\"1\" class=\"dataframe\">\n",
       "  <thead>\n",
       "    <tr style=\"text-align: right;\">\n",
       "      <th></th>\n",
       "      <th>T10</th>\n",
       "    </tr>\n",
       "    <tr>\n",
       "      <th>key</th>\n",
       "      <th></th>\n",
       "    </tr>\n",
       "  </thead>\n",
       "  <tbody>\n",
       "    <tr>\n",
       "      <th>shelley - frankenstein - g</th>\n",
       "      <td>0.179294</td>\n",
       "    </tr>\n",
       "  </tbody>\n",
       "</table>\n",
       "</div>"
      ],
      "text/plain": [
       "                                 T10\n",
       "key                                 \n",
       "shelley - frankenstein - g  0.179294"
      ]
     },
     "execution_count": 95,
     "metadata": {},
     "output_type": "execute_result"
    }
   ],
   "source": [
    "THETA_PARA_CL.groupby('key').mean()[['T10']].sort_values(by='T10', ascending=False).head(1)"
   ]
  },
  {
   "cell_type": "markdown",
   "id": "5011a1aa-2421-4f3e-9dc6-95026b06ac01",
   "metadata": {},
   "source": [
    "5. How would you characterize the subject matter of the two genres based on their topic models? Consider the words associated with the dominant topics from each model, but also the models overall."
   ]
  },
  {
   "cell_type": "markdown",
   "id": "c0467cfd-a091-49bd-b7a2-cd62d1b8afee",
   "metadata": {},
   "source": [
    "Novels in the detective genre tend to have:\n",
    "- Involve a corpse, body or murder (e.g., T03).\n",
    "- Have women in them (e.g., T11) and other family members (e.g., T00).\n",
    "\n",
    "Whereas novels in the gothic genre tend to have:\n",
    "- Seem to involve family or friends (e.g., T10).\n",
    "- Describe bodily or facial features (e.g., T04, T12)."
   ]
  },
  {
   "cell_type": "code",
   "execution_count": 124,
   "id": "efc8d554-c80a-4b90-bd12-8e78a268f28f",
   "metadata": {
    "tags": []
   },
   "outputs": [
    {
     "data": {
      "text/html": [
       "<div>\n",
       "<style scoped>\n",
       "    .dataframe tbody tr th:only-of-type {\n",
       "        vertical-align: middle;\n",
       "    }\n",
       "\n",
       "    .dataframe tbody tr th {\n",
       "        vertical-align: top;\n",
       "    }\n",
       "\n",
       "    .dataframe thead th {\n",
       "        text-align: right;\n",
       "    }\n",
       "</style>\n",
       "<table border=\"1\" class=\"dataframe\">\n",
       "  <thead>\n",
       "    <tr style=\"text-align: right;\">\n",
       "      <th></th>\n",
       "      <th>topic_id</th>\n",
       "      <th>mean_theta</th>\n",
       "      <th>top_terms</th>\n",
       "    </tr>\n",
       "    <tr>\n",
       "      <th>genre_id</th>\n",
       "      <th></th>\n",
       "      <th></th>\n",
       "      <th></th>\n",
       "    </tr>\n",
       "  </thead>\n",
       "  <tbody>\n",
       "    <tr>\n",
       "      <th>d</th>\n",
       "      <td>T11</td>\n",
       "      <td>0.068147</td>\n",
       "      <td>daughter faith rumours stories answer women farm</td>\n",
       "    </tr>\n",
       "    <tr>\n",
       "      <th>d</th>\n",
       "      <td>T03</td>\n",
       "      <td>0.066646</td>\n",
       "      <td>corpse body murder evidence period thicket river</td>\n",
       "    </tr>\n",
       "    <tr>\n",
       "      <th>d</th>\n",
       "      <td>T00</td>\n",
       "      <td>0.062800</td>\n",
       "      <td>son father man heart time hand chamber</td>\n",
       "    </tr>\n",
       "    <tr>\n",
       "      <th>d</th>\n",
       "      <td>T18</td>\n",
       "      <td>0.060606</td>\n",
       "      <td>time way house place door night man</td>\n",
       "    </tr>\n",
       "    <tr>\n",
       "      <th>d</th>\n",
       "      <td>T13</td>\n",
       "      <td>0.056803</td>\n",
       "      <td>tm work works terms agreement tm works donations</td>\n",
       "    </tr>\n",
       "    <tr>\n",
       "      <th>g</th>\n",
       "      <td>T10</td>\n",
       "      <td>0.073501</td>\n",
       "      <td>time heart friend family brother moment room</td>\n",
       "    </tr>\n",
       "    <tr>\n",
       "      <th>g</th>\n",
       "      <td>T09</td>\n",
       "      <td>0.071771</td>\n",
       "      <td>night time hand face dear day way</td>\n",
       "    </tr>\n",
       "    <tr>\n",
       "      <th>g</th>\n",
       "      <td>T04</td>\n",
       "      <td>0.069584</td>\n",
       "      <td>eyes heart hand moment bosom oh voice</td>\n",
       "    </tr>\n",
       "    <tr>\n",
       "      <th>g</th>\n",
       "      <td>T12</td>\n",
       "      <td>0.063778</td>\n",
       "      <td>moor man night face time eyes window</td>\n",
       "    </tr>\n",
       "    <tr>\n",
       "      <th>g</th>\n",
       "      <td>T07</td>\n",
       "      <td>0.059479</td>\n",
       "      <td>time way house man room sir place</td>\n",
       "    </tr>\n",
       "  </tbody>\n",
       "</table>\n",
       "</div>"
      ],
      "text/plain": [
       "         topic_id  mean_theta  \\\n",
       "genre_id                        \n",
       "d             T11    0.068147   \n",
       "d             T03    0.066646   \n",
       "d             T00    0.062800   \n",
       "d             T18    0.060606   \n",
       "d             T13    0.056803   \n",
       "g             T10    0.073501   \n",
       "g             T09    0.071771   \n",
       "g             T04    0.069584   \n",
       "g             T12    0.063778   \n",
       "g             T07    0.059479   \n",
       "\n",
       "                                                 top_terms  \n",
       "genre_id                                                    \n",
       "d         daughter faith rumours stories answer women farm  \n",
       "d         corpse body murder evidence period thicket river  \n",
       "d                   son father man heart time hand chamber  \n",
       "d                      time way house place door night man  \n",
       "d         tm work works terms agreement tm works donations  \n",
       "g             time heart friend family brother moment room  \n",
       "g                        night time hand face dear day way  \n",
       "g                    eyes heart hand moment bosom oh voice  \n",
       "g                     moor man night face time eyes window  \n",
       "g                        time way house man room sir place  "
      ]
     },
     "execution_count": 124,
     "metadata": {},
     "output_type": "execute_result"
    }
   ],
   "source": [
    "topics_by_genre = THETA_PARA_CL.groupby('genre_id').mean().reset_index().melt(id_vars='genre_id', var_name='topic_id', value_name='mean_theta').groupby('genre_id').apply(lambda group: group.nlargest(5, 'mean_theta'))\n",
    "pd.merge(topics_by_genre, TOPICS_CHAP, on='topic_id', how='inner').set_index('genre_id')"
   ]
  }
 ],
 "metadata": {
  "kernelspec": {
   "display_name": "Python 3 (ipykernel)",
   "language": "python",
   "name": "python3"
  },
  "language_info": {
   "codemirror_mode": {
    "name": "ipython",
    "version": 3
   },
   "file_extension": ".py",
   "mimetype": "text/x-python",
   "name": "python",
   "nbconvert_exporter": "python",
   "pygments_lexer": "ipython3",
   "version": "3.11.5"
  }
 },
 "nbformat": 4,
 "nbformat_minor": 5
}

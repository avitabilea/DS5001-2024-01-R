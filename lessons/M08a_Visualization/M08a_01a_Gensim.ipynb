{
 "cells": [
  {
   "cell_type": "markdown",
   "id": "01b15f46-a963-41df-918f-2d28ba2bf627",
   "metadata": {},
   "source": [
    "# LDA with Gensim\n",
    "\n",
    "```yaml\n",
    "Course:    DS 5001 \n",
    "Module:    08 Lab\n",
    "Topic:     LDA with Gensim\n",
    "Author:    R.C. Alvarado\n",
    "Date:      05 March 2024\n",
    "```\n",
    "\n",
    "**Purpose:** Using Gensim to generate topic models."
   ]
  },
  {
   "cell_type": "markdown",
   "id": "a51059c6-192b-4144-92b1-34429a72007c",
   "metadata": {},
   "source": [
    "# Set Up"
   ]
  },
  {
   "cell_type": "markdown",
   "id": "090f671b-3226-4d3e-b693-8bed61b7fcc6",
   "metadata": {
    "tags": []
   },
   "source": [
    "## Config"
   ]
  },
  {
   "cell_type": "code",
   "execution_count": 1,
   "id": "dfd1a939",
   "metadata": {
    "tags": []
   },
   "outputs": [],
   "source": [
    "import configparser\n",
    "config = configparser.ConfigParser()\n",
    "config.read('../../../env.ini')\n",
    "data_home = config['DEFAULT']['data_home']\n",
    "output_dir = config['DEFAULT']['output_dir']\n",
    "local_lib = config['DEFAULT']['local_lib']"
   ]
  },
  {
   "cell_type": "code",
   "execution_count": 2,
   "id": "99dfd55a-39e9-4cbc-b742-43b94abba488",
   "metadata": {
    "tags": []
   },
   "outputs": [],
   "source": [
    "data_prefix = 'austen-melville'"
   ]
  },
  {
   "cell_type": "markdown",
   "id": "94c4de45-a051-4ab7-833f-04fdb8ab4339",
   "metadata": {},
   "source": [
    "## Imports"
   ]
  },
  {
   "cell_type": "code",
   "execution_count": 3,
   "id": "e52f9f39-a99f-48a6-bbc5-ea966ed0d59d",
   "metadata": {
    "tags": []
   },
   "outputs": [],
   "source": [
    "import pandas as pd\n",
    "import numpy as np\n",
    "from gensim.corpora import Dictionary\n",
    "from gensim.models import LdaModel"
   ]
  },
  {
   "cell_type": "markdown",
   "id": "389d32f9-7e9f-41a4-a18f-d95497e6c092",
   "metadata": {},
   "source": [
    "# Get Data"
   ]
  },
  {
   "cell_type": "code",
   "execution_count": 4,
   "id": "24578ef9-72fd-4406-ad0f-bb2f0bb96b49",
   "metadata": {
    "tags": []
   },
   "outputs": [],
   "source": [
    "TOKENS = pd.read_csv(f\"{output_dir}/{data_prefix}-TOKEN.csv\")\n",
    "OHCO = list(TOKENS.columns[:5])\n",
    "TOKENS = TOKENS.set_index(OHCO)"
   ]
  },
  {
   "cell_type": "markdown",
   "id": "6085ab1d-4008-4171-a259-001ddbead6b7",
   "metadata": {},
   "source": [
    "# Create Gensum Corpus"
   ]
  },
  {
   "cell_type": "markdown",
   "id": "2b0d4894-e927-4197-998e-a136013b008d",
   "metadata": {},
   "source": [
    "We convert our TOKENS table into Gensim data structures.\n",
    "\n",
    "Gensim uses lists and dictionaries wrapped in objects to provide various kinds of access.\n",
    "\n",
    "Note that this is a bit of reinventing the wheel and it's not faster than what we've been doing with Pandas."
   ]
  },
  {
   "cell_type": "code",
   "execution_count": 5,
   "id": "4ffc6059-4dde-4d42-b578-6567db7e49f0",
   "metadata": {},
   "outputs": [],
   "source": [
    "TOKENS['pos_group'] = TOKENS.pos.str[:2]"
   ]
  },
  {
   "cell_type": "code",
   "execution_count": 6,
   "id": "24ab154b-361f-40a6-a6d3-aba478028143",
   "metadata": {},
   "outputs": [],
   "source": [
    "CORPUS = TOKENS[TOKENS.pos_group.str.contains('NN|VB') & ~TOKENS.pos.str.contains('NNP')]"
   ]
  },
  {
   "cell_type": "code",
   "execution_count": 7,
   "id": "ffb1dc8d-8796-482d-87f4-349c9f2bf8ed",
   "metadata": {
    "tags": []
   },
   "outputs": [],
   "source": [
    "DOCS = CORPUS.dropna().groupby(OHCO[:3]).term_str.apply(list)"
   ]
  },
  {
   "cell_type": "code",
   "execution_count": 8,
   "id": "82f9a996-82b9-4a23-aa47-cc58c08e7a3f",
   "metadata": {
    "tags": []
   },
   "outputs": [
    {
     "data": {
      "text/plain": [
       "book_id  chap_num  para_num\n",
       "105      1         1           [was, man, who, amusement, took, book, found, ...\n",
       "                   2                                                    [elliot]\n",
       "                   3           [walter, born, married, daughter, county, lady...\n",
       "                   4           [had, paragraph, stood, printers, hands, had, ...\n",
       "                   5           [followed, history, rise, ancient, family, ter...\n",
       "                                                     ...                        \n",
       "34970    114       18          [yes, dead, plumage, hides, it, carrion, is, w...\n",
       "                   19          [dark, veins, burst, heres, deluge, wreck, str...\n",
       "                   20          [oer, ye, know, came, gasping, wall, fingers, ...\n",
       "                   21                                                    [finis]\n",
       "                   24                                                      [end]\n",
       "Name: term_str, Length: 28161, dtype: object"
      ]
     },
     "execution_count": 8,
     "metadata": {},
     "output_type": "execute_result"
    }
   ],
   "source": [
    "DOCS"
   ]
  },
  {
   "cell_type": "code",
   "execution_count": 9,
   "id": "af52990f-a8ea-42af-8cb8-bf2fd640cc8c",
   "metadata": {
    "tags": []
   },
   "outputs": [],
   "source": [
    "vocab = Dictionary(DOCS.tolist()) \n",
    "vocab.filter_extremes(no_below=20, no_above=0.5)\n",
    "corpus = [vocab.doc2bow(doc) for doc in DOCS.tolist()]"
   ]
  },
  {
   "cell_type": "markdown",
   "id": "9beeee4e-ec4f-4fcc-84b7-5dbafc816ba7",
   "metadata": {},
   "source": [
    "# Generate LDA\n",
    "\n",
    "Next, we train a model using Gensim's LDA topic modeler."
   ]
  },
  {
   "cell_type": "markdown",
   "id": "3c8a6246-2438-4fa8-9d65-3ce22f13037f",
   "metadata": {
    "jp-MarkdownHeadingCollapsed": true,
    "tags": []
   },
   "source": [
    "We set some training parameters."
   ]
  },
  {
   "cell_type": "markdown",
   "id": "9b317782-29ae-44a8-a2f4-6b7f596b6bd2",
   "metadata": {},
   "source": [
    "Regarding these, here are some notes from the Gensim site:\n",
    "\n",
    "> First of all, the elephant in the room: how many topics do I need? There is\n",
    "really no easy answer for this, it will depend on both your data and your\n",
    "application. I have used 10 topics here because I wanted to have a few topics\n",
    "that I could interpret and \"label\", and because that turned out to give me\n",
    "reasonably good results. You might not need to interpret all your topics, so\n",
    "you could use a large number of topics, for example 100.\n",
    "\n",
    "> ``chunksize`` controls how many documents are processed at a time in the\n",
    "training algorithm. Increasing chunksize will speed up training, at least as\n",
    "long as the chunk of documents easily fit into memory. I've set ``chunksize =\n",
    "2000``, which is more than the amount of documents, so I process all the\n",
    "data in one go. Chunksize can however influence the quality of the model, as\n",
    "discussed in Hoffman and co-authors [2], but the difference was not\n",
    "substantial in this case.\n",
    "\n",
    "> ``passes`` controls how often we train the model on the entire corpus.\n",
    "Another word for passes might be \"epochs\". ``iterations`` is somewhat\n",
    "technical, but essentially it controls how often we repeat a particular loop\n",
    "over each document. It is important to set the number of \"passes\" and\n",
    "\"iterations\" high enough.\n",
    "\n",
    "> I suggest the following way to choose iterations and passes. First, enable\n",
    "logging (as described in many Gensim tutorials), and set ``eval_every = 1``\n",
    "in ``LdaModel``. When training the model look for a line in the log that\n",
    "looks something like this::\n",
    "\n",
    ">```2016-06-21 15:40:06,753 - gensim.models.ldamodel - DEBUG - 68/1566 documents converged within 400 iterations```\n",
    "\n",
    "> If you set ``passes = 20`` you will see this line 20 times. Make sure that by\n",
    "the final passes, most of the documents have converged. So you want to choose\n",
    "both passes and iterations to be high enough for this to happen.\n",
    "\n",
    "> We set ``alpha = 'auto'`` and ``eta = 'auto'``. Again this is somewhat\n",
    "technical, but essentially we are automatically learning two parameters in\n",
    "the model that we usually would have to specify explicitly.\n",
    "\n",
    "\n"
   ]
  },
  {
   "cell_type": "code",
   "execution_count": 10,
   "id": "7354845e-7d4d-4d0f-a30f-6aa7cad45fe0",
   "metadata": {
    "tags": []
   },
   "outputs": [],
   "source": [
    "num_topics = 40\n",
    "chunksize = 2000\n",
    "passes = 20\n",
    "iterations = 400\n",
    "eval_every = None  # Don't evaluate model perplexity, takes too much time."
   ]
  },
  {
   "cell_type": "markdown",
   "id": "68ff2937-01be-4ce0-aa51-d4943764a239",
   "metadata": {
    "tags": []
   },
   "source": [
    "We also make an index to word dictionary, since the model wants it."
   ]
  },
  {
   "cell_type": "code",
   "execution_count": 11,
   "id": "644127b3-a167-4f59-8e00-212fca3f8407",
   "metadata": {
    "tags": []
   },
   "outputs": [],
   "source": [
    "temp = vocab[0]  # This is only to \"load\" the dictionary.\n",
    "id2word = vocab.id2token"
   ]
  },
  {
   "cell_type": "code",
   "execution_count": 12,
   "id": "220a36a2-5a65-4aa3-b12f-3262cf67c4f8",
   "metadata": {
    "tags": []
   },
   "outputs": [],
   "source": [
    "model = LdaModel(\n",
    "    corpus=corpus,\n",
    "    id2word=id2word,\n",
    "    chunksize=chunksize,\n",
    "    alpha='auto',\n",
    "    eta='auto',\n",
    "    iterations=iterations,\n",
    "    num_topics=num_topics,\n",
    "    passes=passes,\n",
    "    eval_every=eval_every\n",
    ")"
   ]
  },
  {
   "cell_type": "markdown",
   "id": "5080570b-f0c0-4c3c-b23d-67b6a77a7685",
   "metadata": {},
   "source": [
    "# Inspect Results"
   ]
  },
  {
   "cell_type": "code",
   "execution_count": 13,
   "id": "69b15af7-44b5-4ad2-afb2-9bf612b18bae",
   "metadata": {
    "tags": []
   },
   "outputs": [],
   "source": [
    "PHI_gs = pd.DataFrame(model.get_topics(), columns=[v[1] for v in vocab.items()])"
   ]
  },
  {
   "cell_type": "code",
   "execution_count": 14,
   "id": "5bbd918c-7bbc-4b15-b5bd-c0f9013e4aca",
   "metadata": {
    "tags": []
   },
   "outputs": [],
   "source": [
    "THETA_gs = pd.DataFrame([(i, t[0], t[1]) \n",
    "    for i, d in enumerate(model.get_document_topics(corpus)) \n",
    "    for t in d],\n",
    "    columns=['doc_id', 'topic_id', 'topic_weight'])\\\n",
    "    .set_index(['doc_id','topic_id'])\\\n",
    "    .unstack(fill_value=0)\n",
    "THETA_gs.index = DOCS.index\n",
    "THETA_gs.columns = THETA_gs.columns.droplevel(0)"
   ]
  },
  {
   "cell_type": "code",
   "execution_count": 15,
   "id": "bd182314-a8d9-4c7e-a997-e0074bb99dff",
   "metadata": {
    "tags": []
   },
   "outputs": [
    {
     "data": {
      "text/html": [
       "<div>\n",
       "<style scoped>\n",
       "    .dataframe tbody tr th:only-of-type {\n",
       "        vertical-align: middle;\n",
       "    }\n",
       "\n",
       "    .dataframe tbody tr th {\n",
       "        vertical-align: top;\n",
       "    }\n",
       "\n",
       "    .dataframe thead th {\n",
       "        text-align: right;\n",
       "    }\n",
       "</style>\n",
       "<table border=\"1\" class=\"dataframe\">\n",
       "  <thead>\n",
       "    <tr style=\"text-align: right;\">\n",
       "      <th></th>\n",
       "      <th></th>\n",
       "      <th>topic_id</th>\n",
       "      <th>0</th>\n",
       "      <th>1</th>\n",
       "      <th>2</th>\n",
       "      <th>3</th>\n",
       "      <th>4</th>\n",
       "      <th>5</th>\n",
       "      <th>6</th>\n",
       "      <th>7</th>\n",
       "      <th>8</th>\n",
       "      <th>9</th>\n",
       "      <th>...</th>\n",
       "      <th>30</th>\n",
       "      <th>31</th>\n",
       "      <th>32</th>\n",
       "      <th>33</th>\n",
       "      <th>34</th>\n",
       "      <th>35</th>\n",
       "      <th>36</th>\n",
       "      <th>37</th>\n",
       "      <th>38</th>\n",
       "      <th>39</th>\n",
       "    </tr>\n",
       "    <tr>\n",
       "      <th>book_id</th>\n",
       "      <th>chap_num</th>\n",
       "      <th>para_num</th>\n",
       "      <th></th>\n",
       "      <th></th>\n",
       "      <th></th>\n",
       "      <th></th>\n",
       "      <th></th>\n",
       "      <th></th>\n",
       "      <th></th>\n",
       "      <th></th>\n",
       "      <th></th>\n",
       "      <th></th>\n",
       "      <th></th>\n",
       "      <th></th>\n",
       "      <th></th>\n",
       "      <th></th>\n",
       "      <th></th>\n",
       "      <th></th>\n",
       "      <th></th>\n",
       "      <th></th>\n",
       "      <th></th>\n",
       "      <th></th>\n",
       "      <th></th>\n",
       "    </tr>\n",
       "  </thead>\n",
       "  <tbody>\n",
       "    <tr>\n",
       "      <th rowspan=\"5\" valign=\"top\">105</th>\n",
       "      <th rowspan=\"5\" valign=\"top\">1</th>\n",
       "      <th>1</th>\n",
       "      <td>0.0</td>\n",
       "      <td>0.000000</td>\n",
       "      <td>0.0</td>\n",
       "      <td>0.000000</td>\n",
       "      <td>0.000000</td>\n",
       "      <td>0.000000</td>\n",
       "      <td>0.091578</td>\n",
       "      <td>0.000000</td>\n",
       "      <td>0.0</td>\n",
       "      <td>0.000000</td>\n",
       "      <td>...</td>\n",
       "      <td>0.063815</td>\n",
       "      <td>0.0</td>\n",
       "      <td>0.000000</td>\n",
       "      <td>0.000000</td>\n",
       "      <td>0.000000</td>\n",
       "      <td>0.000000</td>\n",
       "      <td>0.000000</td>\n",
       "      <td>0.020997</td>\n",
       "      <td>0.036653</td>\n",
       "      <td>0.000000</td>\n",
       "    </tr>\n",
       "    <tr>\n",
       "      <th>2</th>\n",
       "      <td>0.0</td>\n",
       "      <td>0.013627</td>\n",
       "      <td>0.0</td>\n",
       "      <td>0.010247</td>\n",
       "      <td>0.000000</td>\n",
       "      <td>0.011098</td>\n",
       "      <td>0.026035</td>\n",
       "      <td>0.000000</td>\n",
       "      <td>0.0</td>\n",
       "      <td>0.010688</td>\n",
       "      <td>...</td>\n",
       "      <td>0.020290</td>\n",
       "      <td>0.0</td>\n",
       "      <td>0.011437</td>\n",
       "      <td>0.012456</td>\n",
       "      <td>0.011988</td>\n",
       "      <td>0.017290</td>\n",
       "      <td>0.011052</td>\n",
       "      <td>0.010999</td>\n",
       "      <td>0.011120</td>\n",
       "      <td>0.012664</td>\n",
       "    </tr>\n",
       "    <tr>\n",
       "      <th>3</th>\n",
       "      <td>0.0</td>\n",
       "      <td>0.000000</td>\n",
       "      <td>0.0</td>\n",
       "      <td>0.000000</td>\n",
       "      <td>0.000000</td>\n",
       "      <td>0.000000</td>\n",
       "      <td>0.043653</td>\n",
       "      <td>0.000000</td>\n",
       "      <td>0.0</td>\n",
       "      <td>0.000000</td>\n",
       "      <td>...</td>\n",
       "      <td>0.138228</td>\n",
       "      <td>0.0</td>\n",
       "      <td>0.000000</td>\n",
       "      <td>0.000000</td>\n",
       "      <td>0.000000</td>\n",
       "      <td>0.012596</td>\n",
       "      <td>0.000000</td>\n",
       "      <td>0.000000</td>\n",
       "      <td>0.000000</td>\n",
       "      <td>0.000000</td>\n",
       "    </tr>\n",
       "    <tr>\n",
       "      <th>4</th>\n",
       "      <td>0.0</td>\n",
       "      <td>0.000000</td>\n",
       "      <td>0.0</td>\n",
       "      <td>0.026857</td>\n",
       "      <td>0.000000</td>\n",
       "      <td>0.047998</td>\n",
       "      <td>0.031782</td>\n",
       "      <td>0.000000</td>\n",
       "      <td>0.0</td>\n",
       "      <td>0.000000</td>\n",
       "      <td>...</td>\n",
       "      <td>0.012346</td>\n",
       "      <td>0.0</td>\n",
       "      <td>0.000000</td>\n",
       "      <td>0.000000</td>\n",
       "      <td>0.000000</td>\n",
       "      <td>0.010521</td>\n",
       "      <td>0.000000</td>\n",
       "      <td>0.027309</td>\n",
       "      <td>0.000000</td>\n",
       "      <td>0.000000</td>\n",
       "    </tr>\n",
       "    <tr>\n",
       "      <th>5</th>\n",
       "      <td>0.0</td>\n",
       "      <td>0.000000</td>\n",
       "      <td>0.0</td>\n",
       "      <td>0.000000</td>\n",
       "      <td>0.000000</td>\n",
       "      <td>0.000000</td>\n",
       "      <td>0.017159</td>\n",
       "      <td>0.000000</td>\n",
       "      <td>0.0</td>\n",
       "      <td>0.000000</td>\n",
       "      <td>...</td>\n",
       "      <td>0.011190</td>\n",
       "      <td>0.0</td>\n",
       "      <td>0.024991</td>\n",
       "      <td>0.000000</td>\n",
       "      <td>0.062673</td>\n",
       "      <td>0.000000</td>\n",
       "      <td>0.000000</td>\n",
       "      <td>0.024755</td>\n",
       "      <td>0.024820</td>\n",
       "      <td>0.000000</td>\n",
       "    </tr>\n",
       "    <tr>\n",
       "      <th>...</th>\n",
       "      <th>...</th>\n",
       "      <th>...</th>\n",
       "      <td>...</td>\n",
       "      <td>...</td>\n",
       "      <td>...</td>\n",
       "      <td>...</td>\n",
       "      <td>...</td>\n",
       "      <td>...</td>\n",
       "      <td>...</td>\n",
       "      <td>...</td>\n",
       "      <td>...</td>\n",
       "      <td>...</td>\n",
       "      <td>...</td>\n",
       "      <td>...</td>\n",
       "      <td>...</td>\n",
       "      <td>...</td>\n",
       "      <td>...</td>\n",
       "      <td>...</td>\n",
       "      <td>...</td>\n",
       "      <td>...</td>\n",
       "      <td>...</td>\n",
       "      <td>...</td>\n",
       "      <td>...</td>\n",
       "    </tr>\n",
       "    <tr>\n",
       "      <th rowspan=\"5\" valign=\"top\">34970</th>\n",
       "      <th rowspan=\"5\" valign=\"top\">114</th>\n",
       "      <th>18</th>\n",
       "      <td>0.0</td>\n",
       "      <td>0.010720</td>\n",
       "      <td>0.0</td>\n",
       "      <td>0.000000</td>\n",
       "      <td>0.033568</td>\n",
       "      <td>0.000000</td>\n",
       "      <td>0.047135</td>\n",
       "      <td>0.000000</td>\n",
       "      <td>0.0</td>\n",
       "      <td>0.000000</td>\n",
       "      <td>...</td>\n",
       "      <td>0.015962</td>\n",
       "      <td>0.0</td>\n",
       "      <td>0.000000</td>\n",
       "      <td>0.000000</td>\n",
       "      <td>0.000000</td>\n",
       "      <td>0.013603</td>\n",
       "      <td>0.000000</td>\n",
       "      <td>0.000000</td>\n",
       "      <td>0.000000</td>\n",
       "      <td>0.000000</td>\n",
       "    </tr>\n",
       "    <tr>\n",
       "      <th>19</th>\n",
       "      <td>0.0</td>\n",
       "      <td>0.000000</td>\n",
       "      <td>0.0</td>\n",
       "      <td>0.046505</td>\n",
       "      <td>0.000000</td>\n",
       "      <td>0.026804</td>\n",
       "      <td>0.035717</td>\n",
       "      <td>0.000000</td>\n",
       "      <td>0.0</td>\n",
       "      <td>0.000000</td>\n",
       "      <td>...</td>\n",
       "      <td>0.012094</td>\n",
       "      <td>0.0</td>\n",
       "      <td>0.000000</td>\n",
       "      <td>0.000000</td>\n",
       "      <td>0.000000</td>\n",
       "      <td>0.010306</td>\n",
       "      <td>0.046988</td>\n",
       "      <td>0.000000</td>\n",
       "      <td>0.047021</td>\n",
       "      <td>0.047944</td>\n",
       "    </tr>\n",
       "    <tr>\n",
       "      <th>20</th>\n",
       "      <td>0.0</td>\n",
       "      <td>0.000000</td>\n",
       "      <td>0.0</td>\n",
       "      <td>0.000000</td>\n",
       "      <td>0.000000</td>\n",
       "      <td>0.000000</td>\n",
       "      <td>0.016519</td>\n",
       "      <td>0.048872</td>\n",
       "      <td>0.0</td>\n",
       "      <td>0.000000</td>\n",
       "      <td>...</td>\n",
       "      <td>0.012873</td>\n",
       "      <td>0.0</td>\n",
       "      <td>0.028757</td>\n",
       "      <td>0.000000</td>\n",
       "      <td>0.000000</td>\n",
       "      <td>0.010970</td>\n",
       "      <td>0.000000</td>\n",
       "      <td>0.000000</td>\n",
       "      <td>0.000000</td>\n",
       "      <td>0.000000</td>\n",
       "    </tr>\n",
       "    <tr>\n",
       "      <th>21</th>\n",
       "      <td>0.0</td>\n",
       "      <td>0.013627</td>\n",
       "      <td>0.0</td>\n",
       "      <td>0.010247</td>\n",
       "      <td>0.000000</td>\n",
       "      <td>0.011098</td>\n",
       "      <td>0.026035</td>\n",
       "      <td>0.000000</td>\n",
       "      <td>0.0</td>\n",
       "      <td>0.010688</td>\n",
       "      <td>...</td>\n",
       "      <td>0.020290</td>\n",
       "      <td>0.0</td>\n",
       "      <td>0.011437</td>\n",
       "      <td>0.012456</td>\n",
       "      <td>0.011988</td>\n",
       "      <td>0.017290</td>\n",
       "      <td>0.011052</td>\n",
       "      <td>0.010999</td>\n",
       "      <td>0.011120</td>\n",
       "      <td>0.012664</td>\n",
       "    </tr>\n",
       "    <tr>\n",
       "      <th>24</th>\n",
       "      <td>0.0</td>\n",
       "      <td>0.045961</td>\n",
       "      <td>0.0</td>\n",
       "      <td>0.000000</td>\n",
       "      <td>0.000000</td>\n",
       "      <td>0.010735</td>\n",
       "      <td>0.025182</td>\n",
       "      <td>0.000000</td>\n",
       "      <td>0.0</td>\n",
       "      <td>0.010338</td>\n",
       "      <td>...</td>\n",
       "      <td>0.019625</td>\n",
       "      <td>0.0</td>\n",
       "      <td>0.011062</td>\n",
       "      <td>0.012048</td>\n",
       "      <td>0.011595</td>\n",
       "      <td>0.016724</td>\n",
       "      <td>0.010690</td>\n",
       "      <td>0.010639</td>\n",
       "      <td>0.010755</td>\n",
       "      <td>0.012249</td>\n",
       "    </tr>\n",
       "  </tbody>\n",
       "</table>\n",
       "<p>28161 rows × 40 columns</p>\n",
       "</div>"
      ],
      "text/plain": [
       "topic_id                    0         1    2         3         4         5   \\\n",
       "book_id chap_num para_num                                                     \n",
       "105     1        1         0.0  0.000000  0.0  0.000000  0.000000  0.000000   \n",
       "                 2         0.0  0.013627  0.0  0.010247  0.000000  0.011098   \n",
       "                 3         0.0  0.000000  0.0  0.000000  0.000000  0.000000   \n",
       "                 4         0.0  0.000000  0.0  0.026857  0.000000  0.047998   \n",
       "                 5         0.0  0.000000  0.0  0.000000  0.000000  0.000000   \n",
       "...                        ...       ...  ...       ...       ...       ...   \n",
       "34970   114      18        0.0  0.010720  0.0  0.000000  0.033568  0.000000   \n",
       "                 19        0.0  0.000000  0.0  0.046505  0.000000  0.026804   \n",
       "                 20        0.0  0.000000  0.0  0.000000  0.000000  0.000000   \n",
       "                 21        0.0  0.013627  0.0  0.010247  0.000000  0.011098   \n",
       "                 24        0.0  0.045961  0.0  0.000000  0.000000  0.010735   \n",
       "\n",
       "topic_id                         6         7    8         9   ...        30  \\\n",
       "book_id chap_num para_num                                     ...             \n",
       "105     1        1         0.091578  0.000000  0.0  0.000000  ...  0.063815   \n",
       "                 2         0.026035  0.000000  0.0  0.010688  ...  0.020290   \n",
       "                 3         0.043653  0.000000  0.0  0.000000  ...  0.138228   \n",
       "                 4         0.031782  0.000000  0.0  0.000000  ...  0.012346   \n",
       "                 5         0.017159  0.000000  0.0  0.000000  ...  0.011190   \n",
       "...                             ...       ...  ...       ...  ...       ...   \n",
       "34970   114      18        0.047135  0.000000  0.0  0.000000  ...  0.015962   \n",
       "                 19        0.035717  0.000000  0.0  0.000000  ...  0.012094   \n",
       "                 20        0.016519  0.048872  0.0  0.000000  ...  0.012873   \n",
       "                 21        0.026035  0.000000  0.0  0.010688  ...  0.020290   \n",
       "                 24        0.025182  0.000000  0.0  0.010338  ...  0.019625   \n",
       "\n",
       "topic_id                    31        32        33        34        35  \\\n",
       "book_id chap_num para_num                                                \n",
       "105     1        1         0.0  0.000000  0.000000  0.000000  0.000000   \n",
       "                 2         0.0  0.011437  0.012456  0.011988  0.017290   \n",
       "                 3         0.0  0.000000  0.000000  0.000000  0.012596   \n",
       "                 4         0.0  0.000000  0.000000  0.000000  0.010521   \n",
       "                 5         0.0  0.024991  0.000000  0.062673  0.000000   \n",
       "...                        ...       ...       ...       ...       ...   \n",
       "34970   114      18        0.0  0.000000  0.000000  0.000000  0.013603   \n",
       "                 19        0.0  0.000000  0.000000  0.000000  0.010306   \n",
       "                 20        0.0  0.028757  0.000000  0.000000  0.010970   \n",
       "                 21        0.0  0.011437  0.012456  0.011988  0.017290   \n",
       "                 24        0.0  0.011062  0.012048  0.011595  0.016724   \n",
       "\n",
       "topic_id                         36        37        38        39  \n",
       "book_id chap_num para_num                                          \n",
       "105     1        1         0.000000  0.020997  0.036653  0.000000  \n",
       "                 2         0.011052  0.010999  0.011120  0.012664  \n",
       "                 3         0.000000  0.000000  0.000000  0.000000  \n",
       "                 4         0.000000  0.027309  0.000000  0.000000  \n",
       "                 5         0.000000  0.024755  0.024820  0.000000  \n",
       "...                             ...       ...       ...       ...  \n",
       "34970   114      18        0.000000  0.000000  0.000000  0.000000  \n",
       "                 19        0.046988  0.000000  0.047021  0.047944  \n",
       "                 20        0.000000  0.000000  0.000000  0.000000  \n",
       "                 21        0.011052  0.010999  0.011120  0.012664  \n",
       "                 24        0.010690  0.010639  0.010755  0.012249  \n",
       "\n",
       "[28161 rows x 40 columns]"
      ]
     },
     "execution_count": 15,
     "metadata": {},
     "output_type": "execute_result"
    }
   ],
   "source": [
    "THETA_gs"
   ]
  },
  {
   "cell_type": "code",
   "execution_count": 16,
   "id": "9458e98e-a534-403a-baa9-c9cb307a1695",
   "metadata": {
    "tags": []
   },
   "outputs": [
    {
     "data": {
      "image/png": "[encoded data removed]",
      "text/plain": [
       "<Figure size 1000x500 with 1 Axes>"
      ]
     },
     "metadata": {},
     "output_type": "display_data"
    }
   ],
   "source": [
    "THETA_gs.iloc[7].plot.bar(rot=45, figsize=(10,5));"
   ]
  },
  {
   "cell_type": "markdown",
   "id": "4a7a3740-5ce2-4549-a334-26234648723b",
   "metadata": {},
   "source": [
    "# Topic Coherence \n",
    "\n",
    "Topic coherence measures **the degree of semantic similarity between high-scoring words in the topic**. \n",
    "- These measures help in distinguishing between topics that are semantically interpretable and topics that are artifacts of the statistical model.\n",
    "- A coherent topic will have high-scoring words that are semantically related, indicating that the topic is likely to be meaningful.\n",
    "\n",
    "UMass topic coherence is based on document co-occurrence frequencies. A high score suggests that the top words in a topic frequently occur together in \n",
    "documents.\n",
    "\n",
    "**QUESTION: Does co-ocurrence imply semantic similarity?**\n",
    "\n",
    "More info from the docs:\n",
    "\n",
    "> We can compute the topic coherence of each topic. Below we display the\n",
    "average topic coherence and print the topics in order of topic coherence.\n",
    ">\n",
    "> Note that we use the \"Umass\" topic coherence measure here (see\n",
    "`gensim.models.ldamodel.LdaModel.top_topics`), Gensim has recently\n",
    "obtained an implementation of the \"AKSW\" topic coherence measure (see\n",
    "accompanying blog post, http://rare-technologies.com/what-is-topic-coherence/).\n",
    ">\n",
    "> If you are familiar with the subject of the articles in this dataset, you can\n",
    "see that the topics below make a lot of sense. However, they are not without\n",
    "flaws. We can see that there is substantial overlap between some topics,\n",
    "others are hard to interpret, and most of them have at least some terms that\n",
    "seem out of place. If you were able to do better, feel free to share your\n",
    "methods on the blog at http://rare-technologies.com/lda-training-tips/ !\n",
    "\n",
    "\n"
   ]
  },
  {
   "cell_type": "code",
   "execution_count": 17,
   "id": "0ddd469c-c991-47db-9e31-33f90c230fab",
   "metadata": {
    "tags": []
   },
   "outputs": [],
   "source": [
    "top_topics = model.top_topics(corpus)"
   ]
  },
  {
   "cell_type": "markdown",
   "id": "bb130e27-4b40-4f46-92e7-10efc210aa71",
   "metadata": {
    "tags": []
   },
   "source": [
    "Average topic coherence is the sum of topic coherences of all topics, divided by the number of topics."
   ]
  },
  {
   "cell_type": "code",
   "execution_count": 18,
   "id": "19210632-bc4d-4507-8760-b8ea822724ca",
   "metadata": {},
   "outputs": [],
   "source": [
    "# top_topics"
   ]
  },
  {
   "cell_type": "code",
   "execution_count": 19,
   "id": "a6bc4598-4b0d-4a3f-9687-5e9bb9fbecf0",
   "metadata": {},
   "outputs": [],
   "source": [
    "# pd.DataFrame(top_topics)"
   ]
  },
  {
   "cell_type": "code",
   "execution_count": 20,
   "id": "cf31d701-369b-441f-b068-62b5978d9d55",
   "metadata": {
    "tags": []
   },
   "outputs": [
    {
     "name": "stdout",
     "output_type": "stream",
     "text": [
      "Average topic coherence: -9.011.\n"
     ]
    }
   ],
   "source": [
    "avg_topic_coherence = sum([t[1] for t in top_topics]) / num_topics\n",
    "print(f'Average topic coherence: {round(avg_topic_coherence, 3)}.')"
   ]
  },
  {
   "cell_type": "markdown",
   "id": "462ac82e-e8ff-4ab8-b520-ab3379a9ec35",
   "metadata": {
    "tags": []
   },
   "source": [
    "# Top Topics"
   ]
  },
  {
   "cell_type": "code",
   "execution_count": 21,
   "id": "34e469c1-0a9d-45fc-837c-1d2b02601323",
   "metadata": {
    "tags": []
   },
   "outputs": [],
   "source": [
    "TOPICS = pd.DataFrame(\n",
    "    [(i, j, topic[1], *reversed(term_pair)) for i, topic in enumerate(top_topics) for j, term_pair in enumerate(topic[0])], \n",
    "    columns=['topic_id', 'term_rank', 'll', 'term_str', 'term_weight']).set_index(['topic_id','term_rank'])\\\n",
    "    .term_str.unstack().apply(lambda x: ' '.join(x), axis=1).to_frame('top_terms')"
   ]
  },
  {
   "cell_type": "code",
   "execution_count": 22,
   "id": "c3d0686d-c3f5-4b7e-a1c7-31b765ed18ac",
   "metadata": {},
   "outputs": [],
   "source": [
    "TOPICS['coherence'] = pd.DataFrame(top_topics)[1]"
   ]
  },
  {
   "cell_type": "code",
   "execution_count": 23,
   "id": "311b4277-8126-4a19-9df3-bd473a71ca30",
   "metadata": {
    "tags": []
   },
   "outputs": [
    {
     "data": {
      "text/html": [
       "<div>\n",
       "<style scoped>\n",
       "    .dataframe tbody tr th:only-of-type {\n",
       "        vertical-align: middle;\n",
       "    }\n",
       "\n",
       "    .dataframe tbody tr th {\n",
       "        vertical-align: top;\n",
       "    }\n",
       "\n",
       "    .dataframe thead th {\n",
       "        text-align: right;\n",
       "    }\n",
       "</style>\n",
       "<table border=\"1\" class=\"dataframe\">\n",
       "  <thead>\n",
       "    <tr style=\"text-align: right;\">\n",
       "      <th></th>\n",
       "      <th>top_terms</th>\n",
       "      <th>coherence</th>\n",
       "    </tr>\n",
       "    <tr>\n",
       "      <th>topic_id</th>\n",
       "      <th></th>\n",
       "      <th></th>\n",
       "    </tr>\n",
       "  </thead>\n",
       "  <tbody>\n",
       "    <tr>\n",
       "      <th>0</th>\n",
       "      <td>was had were him been be time did being them m...</td>\n",
       "      <td>-2.172741</td>\n",
       "    </tr>\n",
       "    <tr>\n",
       "      <th>1</th>\n",
       "      <td>be have it me do see has say you know am go th...</td>\n",
       "      <td>-2.251506</td>\n",
       "    </tr>\n",
       "    <tr>\n",
       "      <th>2</th>\n",
       "      <td>day came room went morning till passed door da...</td>\n",
       "      <td>-3.198236</td>\n",
       "    </tr>\n",
       "    <tr>\n",
       "      <th>3</th>\n",
       "      <td>hand eyes thou side head face stood air turned...</td>\n",
       "      <td>-3.603158</td>\n",
       "    </tr>\n",
       "    <tr>\n",
       "      <th>4</th>\n",
       "      <td>looking sight house city view ground forth dar...</td>\n",
       "      <td>-4.366380</td>\n",
       "    </tr>\n",
       "    <tr>\n",
       "      <th>5</th>\n",
       "      <td>mother love father sister girl woman stranger ...</td>\n",
       "      <td>-4.833586</td>\n",
       "    </tr>\n",
       "    <tr>\n",
       "      <th>6</th>\n",
       "      <td>feet fell earth boy back caught instant ran fo...</td>\n",
       "      <td>-5.258807</td>\n",
       "    </tr>\n",
       "    <tr>\n",
       "      <th>7</th>\n",
       "      <td>is are this life hate live people makes humani...</td>\n",
       "      <td>-6.818160</td>\n",
       "    </tr>\n",
       "    <tr>\n",
       "      <th>8</th>\n",
       "      <td>end in arm chair on away walked quarter step m...</td>\n",
       "      <td>-7.111730</td>\n",
       "    </tr>\n",
       "    <tr>\n",
       "      <th>9</th>\n",
       "      <td>stand art sun stone paper vain sailors cell ho...</td>\n",
       "      <td>-7.742389</td>\n",
       "    </tr>\n",
       "    <tr>\n",
       "      <th>10</th>\n",
       "      <td>ship boat comes line ah front mark title ha ay...</td>\n",
       "      <td>-7.799277</td>\n",
       "    </tr>\n",
       "    <tr>\n",
       "      <th>11</th>\n",
       "      <td>took together saying while money happened firs...</td>\n",
       "      <td>-8.264320</td>\n",
       "    </tr>\n",
       "    <tr>\n",
       "      <th>12</th>\n",
       "      <td>man men war book born knows prove mans kings e...</td>\n",
       "      <td>-8.338455</td>\n",
       "    </tr>\n",
       "    <tr>\n",
       "      <th>13</th>\n",
       "      <td>lady read running order girls writing lives pr...</td>\n",
       "      <td>-8.362347</td>\n",
       "    </tr>\n",
       "    <tr>\n",
       "      <th>14</th>\n",
       "      <td>soul arms portrait height storm chamber coat t...</td>\n",
       "      <td>-8.868830</td>\n",
       "    </tr>\n",
       "    <tr>\n",
       "      <th>15</th>\n",
       "      <td>letter officer circumstances spirit question d...</td>\n",
       "      <td>-9.066946</td>\n",
       "    </tr>\n",
       "    <tr>\n",
       "      <th>16</th>\n",
       "      <td>round looked turning down countenance touch he...</td>\n",
       "      <td>-9.351927</td>\n",
       "    </tr>\n",
       "    <tr>\n",
       "      <th>17</th>\n",
       "      <td>death lord living son wife bound match my comp...</td>\n",
       "      <td>-9.394490</td>\n",
       "    </tr>\n",
       "    <tr>\n",
       "      <th>18</th>\n",
       "      <td>night keep wine closet play wise watch neck li...</td>\n",
       "      <td>-9.494534</td>\n",
       "    </tr>\n",
       "    <tr>\n",
       "      <th>19</th>\n",
       "      <td>resolved according setting dropped remain laid...</td>\n",
       "      <td>-9.643247</td>\n",
       "    </tr>\n",
       "    <tr>\n",
       "      <th>20</th>\n",
       "      <td>book fellow worlds tree wood office glimpse ca...</td>\n",
       "      <td>-9.803975</td>\n",
       "    </tr>\n",
       "    <tr>\n",
       "      <th>21</th>\n",
       "      <td>body mood dream birds deemed lies gun names hu...</td>\n",
       "      <td>-9.860366</td>\n",
       "    </tr>\n",
       "    <tr>\n",
       "      <th>22</th>\n",
       "      <td>then sea there dont captain shore us sweet flo...</td>\n",
       "      <td>-10.053188</td>\n",
       "    </tr>\n",
       "    <tr>\n",
       "      <th>23</th>\n",
       "      <td>but lay child fear why drawn speaking as middl...</td>\n",
       "      <td>-10.086618</td>\n",
       "    </tr>\n",
       "    <tr>\n",
       "      <th>24</th>\n",
       "      <td>his thousand year broken god peculiar desire s...</td>\n",
       "      <td>-10.174505</td>\n",
       "    </tr>\n",
       "    <tr>\n",
       "      <th>25</th>\n",
       "      <td>ships fire board rolled sit hearts hat drop la...</td>\n",
       "      <td>-10.251175</td>\n",
       "    </tr>\n",
       "    <tr>\n",
       "      <th>26</th>\n",
       "      <td>said he voice master mouth answered boys how e...</td>\n",
       "      <td>-10.288659</td>\n",
       "    </tr>\n",
       "    <tr>\n",
       "      <th>27</th>\n",
       "      <td>water though bed paused these when sleep keepi...</td>\n",
       "      <td>-10.544857</td>\n",
       "    </tr>\n",
       "    <tr>\n",
       "      <th>28</th>\n",
       "      <td>light half form breath teeth least spell reply...</td>\n",
       "      <td>-10.874609</td>\n",
       "    </tr>\n",
       "    <tr>\n",
       "      <th>29</th>\n",
       "      <td>waters weeks lying strangers also blue persons...</td>\n",
       "      <td>-10.991997</td>\n",
       "    </tr>\n",
       "    <tr>\n",
       "      <th>30</th>\n",
       "      <td>ye itself rocks show bay run fool spring trust...</td>\n",
       "      <td>-11.120736</td>\n",
       "    </tr>\n",
       "    <tr>\n",
       "      <th>31</th>\n",
       "      <td>stay themselves town out started seek painting...</td>\n",
       "      <td>-11.542651</td>\n",
       "    </tr>\n",
       "    <tr>\n",
       "      <th>32</th>\n",
       "      <td>words touching plain conceit reference ways co...</td>\n",
       "      <td>-11.547054</td>\n",
       "    </tr>\n",
       "    <tr>\n",
       "      <th>33</th>\n",
       "      <td>bread expression street scene sky long wind em...</td>\n",
       "      <td>-11.789619</td>\n",
       "    </tr>\n",
       "    <tr>\n",
       "      <th>34</th>\n",
       "      <td>work ones youth success picture suspended frui...</td>\n",
       "      <td>-12.015999</td>\n",
       "    </tr>\n",
       "    <tr>\n",
       "      <th>35</th>\n",
       "      <td>heaven seized shot race mysteries gloom puttin...</td>\n",
       "      <td>-12.124682</td>\n",
       "    </tr>\n",
       "    <tr>\n",
       "      <th>36</th>\n",
       "      <td>land glass following gazing stream entering cr...</td>\n",
       "      <td>-12.473855</td>\n",
       "    </tr>\n",
       "    <tr>\n",
       "      <th>37</th>\n",
       "      <td>hands brow dead calm cast minds press emotions...</td>\n",
       "      <td>-12.713286</td>\n",
       "    </tr>\n",
       "    <tr>\n",
       "      <th>38</th>\n",
       "      <td>cheek sailor law joy mention history meaning p...</td>\n",
       "      <td>-12.984396</td>\n",
       "    </tr>\n",
       "    <tr>\n",
       "      <th>39</th>\n",
       "      <td>cried sir no replied iron the says trunk whisp...</td>\n",
       "      <td>-13.241348</td>\n",
       "    </tr>\n",
       "  </tbody>\n",
       "</table>\n",
       "</div>"
      ],
      "text/plain": [
       "                                                  top_terms  coherence\n",
       "topic_id                                                              \n",
       "0         was had were him been be time did being them m...  -2.172741\n",
       "1         be have it me do see has say you know am go th...  -2.251506\n",
       "2         day came room went morning till passed door da...  -3.198236\n",
       "3         hand eyes thou side head face stood air turned...  -3.603158\n",
       "4         looking sight house city view ground forth dar...  -4.366380\n",
       "5         mother love father sister girl woman stranger ...  -4.833586\n",
       "6         feet fell earth boy back caught instant ran fo...  -5.258807\n",
       "7         is are this life hate live people makes humani...  -6.818160\n",
       "8         end in arm chair on away walked quarter step m...  -7.111730\n",
       "9         stand art sun stone paper vain sailors cell ho...  -7.742389\n",
       "10        ship boat comes line ah front mark title ha ay...  -7.799277\n",
       "11        took together saying while money happened firs...  -8.264320\n",
       "12        man men war book born knows prove mans kings e...  -8.338455\n",
       "13        lady read running order girls writing lives pr...  -8.362347\n",
       "14        soul arms portrait height storm chamber coat t...  -8.868830\n",
       "15        letter officer circumstances spirit question d...  -9.066946\n",
       "16        round looked turning down countenance touch he...  -9.351927\n",
       "17        death lord living son wife bound match my comp...  -9.394490\n",
       "18        night keep wine closet play wise watch neck li...  -9.494534\n",
       "19        resolved according setting dropped remain laid...  -9.643247\n",
       "20        book fellow worlds tree wood office glimpse ca...  -9.803975\n",
       "21        body mood dream birds deemed lies gun names hu...  -9.860366\n",
       "22        then sea there dont captain shore us sweet flo... -10.053188\n",
       "23        but lay child fear why drawn speaking as middl... -10.086618\n",
       "24        his thousand year broken god peculiar desire s... -10.174505\n",
       "25        ships fire board rolled sit hearts hat drop la... -10.251175\n",
       "26        said he voice master mouth answered boys how e... -10.288659\n",
       "27        water though bed paused these when sleep keepi... -10.544857\n",
       "28        light half form breath teeth least spell reply... -10.874609\n",
       "29        waters weeks lying strangers also blue persons... -10.991997\n",
       "30        ye itself rocks show bay run fool spring trust... -11.120736\n",
       "31        stay themselves town out started seek painting... -11.542651\n",
       "32        words touching plain conceit reference ways co... -11.547054\n",
       "33        bread expression street scene sky long wind em... -11.789619\n",
       "34        work ones youth success picture suspended frui... -12.015999\n",
       "35        heaven seized shot race mysteries gloom puttin... -12.124682\n",
       "36        land glass following gazing stream entering cr... -12.473855\n",
       "37        hands brow dead calm cast minds press emotions... -12.713286\n",
       "38        cheek sailor law joy mention history meaning p... -12.984396\n",
       "39        cried sir no replied iron the says trunk whisp... -13.241348"
      ]
     },
     "execution_count": 23,
     "metadata": {},
     "output_type": "execute_result"
    }
   ],
   "source": [
    "TOPICS.sort_values('coherence', ascending=False)"
   ]
  },
  {
   "cell_type": "code",
   "execution_count": null,
   "id": "2fd2563a-4f2e-4290-99c2-8aaf0e4e6654",
   "metadata": {},
   "outputs": [],
   "source": []
  }
 ],
 "metadata": {
  "kernelspec": {
   "display_name": "Python 3 (ipykernel)",
   "language": "python",
   "name": "python3"
  },
  "language_info": {
   "codemirror_mode": {
    "name": "ipython",
    "version": 3
   },
   "file_extension": ".py",
   "mimetype": "text/x-python",
   "name": "python",
   "nbconvert_exporter": "python",
   "pygments_lexer": "ipython3",
   "version": "3.11.5"
  },
  "widgets": {
   "application/vnd.jupyter.widget-state+json": {
    "state": {},
    "version_major": 2,
    "version_minor": 0
   }
  }
 },
 "nbformat": 4,
 "nbformat_minor": 5
}

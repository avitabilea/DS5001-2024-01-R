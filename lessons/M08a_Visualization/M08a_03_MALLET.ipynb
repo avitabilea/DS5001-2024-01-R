{
 "cells": [
  {
   "cell_type": "markdown",
   "id": "764e0879-5657-47cb-a045-1a21fc15e643",
   "metadata": {
    "tags": []
   },
   "source": [
    "# Using MALLET\n",
    "\n",
    "```yaml\n",
    "Course:   DS 5001\n",
    "Module:   08a Lab\n",
    "Topic:    Using MALLET\n",
    "Author:   R.C. Alvarado\n",
    "Date:     23 March 2023\n",
    "```"
   ]
  },
  {
   "cell_type": "markdown",
   "id": "d4d3c8e9-0f48-4f30-be1b-dd7ce00ec9e2",
   "metadata": {},
   "source": [
    "## Getting MALLET on Your System\n",
    "\n",
    "[Download MALLET](https://github.com/mimno/Mallet/zipball/master) here. This will download a zip archive file. \n",
    "\n",
    "For other options, check out the [home page](https://mimno.github.io/Mallet/).\n",
    "\n",
    "Once downloaded, you will find an executable in the `/bin` directory of the folder created when unzipping the archive file.\n",
    "\n",
    "You can just now run MALLET in a variety of ways:\n",
    "\n",
    "- You can just run the `mallet` binary file by its full path.\\\n",
    "  `/home/rca2t/Documents/MSDS/DS5001/mimno-Mallet-5fbf800/bin/mallet`\n",
    "- You create a symbolic link of the binary to somewhere convenient on your system and call the link.\\\n",
    "  e.g. `ln -s mimno-Mallet-5fbf800/bin/mallet mallet`\n",
    "- You can run `ant` and build and install it on your system.\\\n",
    "  See Appendix below information on how compile <a href=\"https://mimno.github.io/Mallet/topics\">MALLET</a> if you are so inclined."
   ]
  },
  {
   "cell_type": "markdown",
   "id": "30527c8e-6ab8-4d6a-bccf-de8984a68764",
   "metadata": {},
   "source": [
    "## Set Up"
   ]
  },
  {
   "cell_type": "markdown",
   "id": "5ad62514",
   "metadata": {},
   "source": [
    "### Configure"
   ]
  },
  {
   "cell_type": "code",
   "execution_count": 1,
   "id": "6de2114e",
   "metadata": {},
   "outputs": [],
   "source": [
    "import configparser\n",
    "config = configparser.ConfigParser()\n",
    "config.read(\"../../../env.ini\")\n",
    "data_home = config['DEFAULT']['data_home']\n",
    "output_dir = config['DEFAULT']['output_dir']\n",
    "local_lib = config['DEFAULT']['local_lib']"
   ]
  },
  {
   "cell_type": "code",
   "execution_count": 2,
   "id": "ca3df793-e399-40ce-b39a-306f46e1d108",
   "metadata": {},
   "outputs": [],
   "source": [
    "data_prefix = 'novels'"
   ]
  },
  {
   "cell_type": "code",
   "execution_count": 26,
   "id": "3861f590",
   "metadata": {},
   "outputs": [
    {
     "name": "stderr",
     "output_type": "stream",
     "text": [
      "The syntax of the command is incorrect.\n"
     ]
    }
   ],
   "source": [
    "mallet_data = f\"{output_dir}/mallet-demo\"\n",
    "!mkdir {mallet_data}"
   ]
  },
  {
   "cell_type": "code",
   "execution_count": 4,
   "id": "752be05f",
   "metadata": {},
   "outputs": [],
   "source": [
    "OHCO = ['book_id', 'chap_id', 'para_num', 'sent_num', 'token_num']"
   ]
  },
  {
   "cell_type": "code",
   "execution_count": 5,
   "id": "50a1bbef-c6d8-413f-9c8e-1def31ad4a90",
   "metadata": {},
   "outputs": [],
   "source": [
    "max_words = 10000\n",
    "\n",
    "# For MALLET\n",
    "num_topics = 20\n",
    "num_iters = 1000\n",
    "show_interval = 100"
   ]
  },
  {
   "cell_type": "markdown",
   "id": "3a5cf922",
   "metadata": {},
   "source": [
    "### Import"
   ]
  },
  {
   "cell_type": "code",
   "execution_count": 6,
   "id": "0418a7cd-e9a6-4aae-8a5c-f28cd57861cb",
   "metadata": {},
   "outputs": [],
   "source": [
    "import pandas as pd\n",
    "# import numpy as np # Not needed today"
   ]
  },
  {
   "cell_type": "markdown",
   "id": "0ca083f7",
   "metadata": {},
   "source": [
    "## Prepare"
   ]
  },
  {
   "cell_type": "markdown",
   "id": "7fa11232-bd86-46b4-9f91-a55cef2418da",
   "metadata": {},
   "source": [
    "### Import a CORPUS"
   ]
  },
  {
   "cell_type": "code",
   "execution_count": 7,
   "id": "283157bb-c578-4304-ab8b-7203e1f89f1d",
   "metadata": {},
   "outputs": [],
   "source": [
    "LIB = pd.read_csv(f\"{data_home}/{data_prefix}/{data_prefix}-LIB.csv\").set_index(OHCO[:1])"
   ]
  },
  {
   "cell_type": "code",
   "execution_count": 8,
   "id": "0fcdf4ea-2b60-4701-bb1a-ca235bf77e86",
   "metadata": {},
   "outputs": [],
   "source": [
    "CORPUS = pd.read_csv(f\"{data_home}/{data_prefix}/{data_prefix}-CORPUS.csv\").set_index(OHCO)"
   ]
  },
  {
   "cell_type": "code",
   "execution_count": 9,
   "id": "f8d1c6ee-c3c8-4890-b516-e07a5ac92e7f",
   "metadata": {},
   "outputs": [
    {
     "data": {
      "text/html": [
       "<div>\n",
       "<style scoped>\n",
       "    .dataframe tbody tr th:only-of-type {\n",
       "        vertical-align: middle;\n",
       "    }\n",
       "\n",
       "    .dataframe tbody tr th {\n",
       "        vertical-align: top;\n",
       "    }\n",
       "\n",
       "    .dataframe thead th {\n",
       "        text-align: right;\n",
       "    }\n",
       "</style>\n",
       "<table border=\"1\" class=\"dataframe\">\n",
       "  <thead>\n",
       "    <tr style=\"text-align: right;\">\n",
       "      <th></th>\n",
       "      <th></th>\n",
       "      <th></th>\n",
       "      <th></th>\n",
       "      <th></th>\n",
       "      <th>pos</th>\n",
       "      <th>term_str</th>\n",
       "    </tr>\n",
       "    <tr>\n",
       "      <th>book_id</th>\n",
       "      <th>chap_id</th>\n",
       "      <th>para_num</th>\n",
       "      <th>sent_num</th>\n",
       "      <th>token_num</th>\n",
       "      <th></th>\n",
       "      <th></th>\n",
       "    </tr>\n",
       "  </thead>\n",
       "  <tbody>\n",
       "    <tr>\n",
       "      <th rowspan=\"5\" valign=\"top\">secretadversary</th>\n",
       "      <th rowspan=\"5\" valign=\"top\">1</th>\n",
       "      <th rowspan=\"4\" valign=\"top\">0</th>\n",
       "      <th rowspan=\"4\" valign=\"top\">1</th>\n",
       "      <th>0</th>\n",
       "      <td>DT</td>\n",
       "      <td>the</td>\n",
       "    </tr>\n",
       "    <tr>\n",
       "      <th>1</th>\n",
       "      <td>NNP</td>\n",
       "      <td>young</td>\n",
       "    </tr>\n",
       "    <tr>\n",
       "      <th>2</th>\n",
       "      <td>NNP</td>\n",
       "      <td>adventurers</td>\n",
       "    </tr>\n",
       "    <tr>\n",
       "      <th>3</th>\n",
       "      <td>NNP</td>\n",
       "      <td>ltd</td>\n",
       "    </tr>\n",
       "    <tr>\n",
       "      <th>1</th>\n",
       "      <th>0</th>\n",
       "      <th>0</th>\n",
       "      <td>JJ</td>\n",
       "      <td>tommy</td>\n",
       "    </tr>\n",
       "  </tbody>\n",
       "</table>\n",
       "</div>"
      ],
      "text/plain": [
       "                                                     pos     term_str\n",
       "book_id         chap_id para_num sent_num token_num                  \n",
       "secretadversary 1       0        1        0           DT          the\n",
       "                                          1          NNP        young\n",
       "                                          2          NNP  adventurers\n",
       "                                          3          NNP          ltd\n",
       "                        1        0        0           JJ        tommy"
      ]
     },
     "execution_count": 9,
     "metadata": {},
     "output_type": "execute_result"
    }
   ],
   "source": [
    "CORPUS.head()"
   ]
  },
  {
   "cell_type": "markdown",
   "id": "2e9b030f-5184-4cfa-9647-715e392087af",
   "metadata": {},
   "source": [
    "### Create DOC"
   ]
  },
  {
   "cell_type": "code",
   "execution_count": 10,
   "id": "4147f111-8ad2-49d3-9ba8-d405f199c56e",
   "metadata": {
    "tags": []
   },
   "outputs": [],
   "source": [
    "def gather_docs(CORPUS, ohco_level, term_col='term_str'):\n",
    "    OHCO = CORPUS.index.names\n",
    "    CORPUS[term_col] = CORPUS[term_col].astype('str')\n",
    "    DOC = CORPUS.groupby(OHCO[:ohco_level])[term_col].apply(lambda x:' '.join(x)).to_frame('doc_str')\n",
    "    return DOC"
   ]
  },
  {
   "cell_type": "code",
   "execution_count": 11,
   "id": "e95088ca-6990-4b20-af98-b550381525cf",
   "metadata": {},
   "outputs": [],
   "source": [
    "DOC = gather_docs(CORPUS, 2)"
   ]
  },
  {
   "cell_type": "code",
   "execution_count": 12,
   "id": "b1be4aa2-aef8-42f2-903b-8d57c961db49",
   "metadata": {},
   "outputs": [],
   "source": [
    "DOC['n_tokens'] = DOC.doc_str.apply(lambda x: len(x.split()))"
   ]
  },
  {
   "cell_type": "code",
   "execution_count": 13,
   "id": "7c59fb82-e871-4be8-9579-d9537e6111c0",
   "metadata": {},
   "outputs": [
    {
     "data": {
      "text/html": [
       "<div>\n",
       "<style scoped>\n",
       "    .dataframe tbody tr th:only-of-type {\n",
       "        vertical-align: middle;\n",
       "    }\n",
       "\n",
       "    .dataframe tbody tr th {\n",
       "        vertical-align: top;\n",
       "    }\n",
       "\n",
       "    .dataframe thead th {\n",
       "        text-align: right;\n",
       "    }\n",
       "</style>\n",
       "<table border=\"1\" class=\"dataframe\">\n",
       "  <thead>\n",
       "    <tr style=\"text-align: right;\">\n",
       "      <th></th>\n",
       "      <th></th>\n",
       "      <th>doc_str</th>\n",
       "      <th>n_tokens</th>\n",
       "    </tr>\n",
       "    <tr>\n",
       "      <th>book_id</th>\n",
       "      <th>chap_id</th>\n",
       "      <th></th>\n",
       "      <th></th>\n",
       "    </tr>\n",
       "  </thead>\n",
       "  <tbody>\n",
       "    <tr>\n",
       "      <th rowspan=\"5\" valign=\"top\">adventures</th>\n",
       "      <th>1</th>\n",
       "      <td>a scandal in bohemia i to sherlock holmes she ...</td>\n",
       "      <td>8608</td>\n",
       "    </tr>\n",
       "    <tr>\n",
       "      <th>2</th>\n",
       "      <td>the red headed league i had called upon my fri...</td>\n",
       "      <td>9197</td>\n",
       "    </tr>\n",
       "    <tr>\n",
       "      <th>3</th>\n",
       "      <td>a case of identity my dear fellow said sherloc...</td>\n",
       "      <td>7020</td>\n",
       "    </tr>\n",
       "    <tr>\n",
       "      <th>4</th>\n",
       "      <td>the boscombe valley mystery we were seated at ...</td>\n",
       "      <td>9685</td>\n",
       "    </tr>\n",
       "    <tr>\n",
       "      <th>5</th>\n",
       "      <td>the five orange pips when i glance over my not...</td>\n",
       "      <td>7365</td>\n",
       "    </tr>\n",
       "    <tr>\n",
       "      <th>...</th>\n",
       "      <th>...</th>\n",
       "      <td>...</td>\n",
       "      <td>...</td>\n",
       "    </tr>\n",
       "    <tr>\n",
       "      <th rowspan=\"4\" valign=\"top\">udolpho</th>\n",
       "      <th>54</th>\n",
       "      <td>vi unnatural deeds do breed unnatural troubles...</td>\n",
       "      <td>5605</td>\n",
       "    </tr>\n",
       "    <tr>\n",
       "      <th>55</th>\n",
       "      <td>vii but in these cases we still have judgment ...</td>\n",
       "      <td>4164</td>\n",
       "    </tr>\n",
       "    <tr>\n",
       "      <th>56</th>\n",
       "      <td>viii then fresh tears stood on her cheek as do...</td>\n",
       "      <td>2522</td>\n",
       "    </tr>\n",
       "    <tr>\n",
       "      <th>57</th>\n",
       "      <td>ix now my task is smoothly done i can fly or i...</td>\n",
       "      <td>977</td>\n",
       "    </tr>\n",
       "    <tr>\n",
       "      <th>usher</th>\n",
       "      <th>1</th>\n",
       "      <td>fall of the house of usher son coeur est un lu...</td>\n",
       "      <td>7212</td>\n",
       "    </tr>\n",
       "  </tbody>\n",
       "</table>\n",
       "<p>320 rows × 2 columns</p>\n",
       "</div>"
      ],
      "text/plain": [
       "                                                              doc_str  \\\n",
       "book_id    chap_id                                                      \n",
       "adventures 1        a scandal in bohemia i to sherlock holmes she ...   \n",
       "           2        the red headed league i had called upon my fri...   \n",
       "           3        a case of identity my dear fellow said sherloc...   \n",
       "           4        the boscombe valley mystery we were seated at ...   \n",
       "           5        the five orange pips when i glance over my not...   \n",
       "...                                                               ...   \n",
       "udolpho    54       vi unnatural deeds do breed unnatural troubles...   \n",
       "           55       vii but in these cases we still have judgment ...   \n",
       "           56       viii then fresh tears stood on her cheek as do...   \n",
       "           57       ix now my task is smoothly done i can fly or i...   \n",
       "usher      1        fall of the house of usher son coeur est un lu...   \n",
       "\n",
       "                    n_tokens  \n",
       "book_id    chap_id            \n",
       "adventures 1            8608  \n",
       "           2            9197  \n",
       "           3            7020  \n",
       "           4            9685  \n",
       "           5            7365  \n",
       "...                      ...  \n",
       "udolpho    54           5605  \n",
       "           55           4164  \n",
       "           56           2522  \n",
       "           57            977  \n",
       "usher      1            7212  \n",
       "\n",
       "[320 rows x 2 columns]"
      ]
     },
     "execution_count": 13,
     "metadata": {},
     "output_type": "execute_result"
    }
   ],
   "source": [
    "DOC"
   ]
  },
  {
   "cell_type": "markdown",
   "id": "3fd5c465-ecd9-42cc-8654-3d180945cb32",
   "metadata": {
    "tags": []
   },
   "source": [
    "### Dump corpus to CSV file"
   ]
  },
  {
   "cell_type": "code",
   "execution_count": 14,
   "id": "9a50939f-8cec-4d26-8a6d-1f383335d479",
   "metadata": {},
   "outputs": [],
   "source": [
    "mallet_corpus = DOC.join(LIB)[['doc_str','author_id']]\n",
    "mallet_corpus.columns = 'doc_content doc_label'.split()\n",
    "mallet_corpus[['doc_label','doc_content']].to_csv(f'{mallet_data}/novels-corpus.csv', index=False)"
   ]
  },
  {
   "cell_type": "markdown",
   "id": "80036f9a-5f1a-4cbc-8651-79738ddfdd3d",
   "metadata": {
    "tags": []
   },
   "source": [
    "## MALLET Time"
   ]
  },
  {
   "cell_type": "markdown",
   "id": "382ef4df-30f6-487b-a4b9-31ed6afd8824",
   "metadata": {},
   "source": [
    "### Show MALLET options"
   ]
  },
  {
   "cell_type": "code",
   "execution_count": 27,
   "id": "c828d774-f726-4f11-9756-a8012bb036af",
   "metadata": {},
   "outputs": [
    {
     "data": {
      "text/plain": [
       "'C:/Users/Andre/OneDrive - University of Virginia/Documents/mimno-Mallet-5fbf800/bin'"
      ]
     },
     "execution_count": 27,
     "metadata": {},
     "output_type": "execute_result"
    }
   ],
   "source": [
    "# mallet_home = \"/home/rca2t/Documents/MSDS/DS5001/mimno-Mallet-5fbf800/bin\"\n",
    "mallet_home = \"C:/Users/Andre/OneDrive - University of Virginia/Documents/mimno-Mallet-5fbf800/bin\"\n",
    "# mallet_home = config['DEFAULT']['mallet_home']\n",
    "mallet_home"
   ]
  },
  {
   "cell_type": "code",
   "execution_count": 28,
   "id": "8de91ce5-d4c8-4721-91a8-74fca90cbf1e",
   "metadata": {},
   "outputs": [
    {
     "name": "stderr",
     "output_type": "stream",
     "text": [
      "'C:/Users/Andre/OneDrive' is not recognized as an internal or external command,\n",
      "operable program or batch file.\n"
     ]
    }
   ],
   "source": [
    "! {mallet_home}/mallet "
   ]
  },
  {
   "cell_type": "markdown",
   "id": "6af0e8d1-2ae8-4d85-938c-ed1d63892f95",
   "metadata": {
    "tags": []
   },
   "source": [
    "### Import corpus\n",
    "\n",
    "This converts the `.csv` file we just created into a `.mallet` file. \n",
    "\n",
    "This file has a format that MALLET can more effectively process.\n",
    "\n",
    "Here we pass all of our arguments as command line arguments. \n",
    "\n",
    "Note there is an option to put this arguments into file and just pass the file as an argument."
   ]
  },
  {
   "cell_type": "code",
   "execution_count": 29,
   "id": "69f46a43-f372-4ca7-a4bd-1e9205025b18",
   "metadata": {},
   "outputs": [
    {
     "name": "stderr",
     "output_type": "stream",
     "text": [
      "'C:/Users/Andre/OneDrive' is not recognized as an internal or external command,\n",
      "operable program or batch file.\n"
     ]
    }
   ],
   "source": [
    "!{mallet_home}/mallet import-file \\\n",
    "--input {mallet_data}/novels-corpus.csv \\\n",
    "--output {mallet_data}/novels-corpus.mallet \\\n",
    "--keep-sequence TRUE"
   ]
  },
  {
   "cell_type": "markdown",
   "id": "ccae6615-b609-450a-b479-b031d115a83e",
   "metadata": {},
   "source": [
    "### Train topics\n",
    "\n",
    "Now we generate our model with a bunch of paramaters.\n",
    "\n",
    "- `num-topics`: Number of topics to generate.\n",
    "- `num-iterations`: The number of iterations to run.\n",
    "- `output-doc-topics`: The file to dump our doc-topic data (THETA)\n",
    "- `output-topic-keys`: The file to dump our topic keys.\n",
    "- `word-topic-counts-file`: The file to dump our word-topic counts (raw PHI) \n",
    "- `topic-word-weights-file`: The file to dump our topic-word weights (PHI) \n",
    "- `xml-topic-report`: The XML file to dump a report.\n",
    "- `xml-topic-phrase-report`: The XML file to dump the phrases associated with topics.\n",
    "- `show-topics-interval`: The iteration interval to show results during model fitting.\n",
    "- `use-symmetric-alpha`: Whether or not to use the same alpha value for each topic.\n",
    "- `optimize-interval`: The optimization interval.\n",
    "- `diagnostics-file`: The XML file to dump some diagnostic information."
   ]
  },
  {
   "cell_type": "code",
   "execution_count": null,
   "id": "db27bac3-47be-4d9f-a83e-af803a4d887f",
   "metadata": {},
   "outputs": [],
   "source": [
    "!{mallet_home}/mallet train-topics \\\n",
    "--input {mallet_data}/novels-corpus.mallet \\\n",
    "--num-topics {num_topics} \\\n",
    "--num-iterations {num_iters} \\\n",
    "--output-doc-topics {mallet_data}/novels-doc-topics.txt \\\n",
    "--output-topic-keys {mallet_data}/novels-topic-keys.txt \\\n",
    "--word-topic-counts-file {mallet_data}/novels-word-topic-counts-file.txt \\\n",
    "--topic-word-weights-file {mallet_data}/novels-topic-word-weights-file.txt \\\n",
    "--xml-topic-report {mallet_data}/novels-topic-report.xml \\\n",
    "--xml-topic-phrase-report {mallet_data}/novels-topic-phrase-report.xml \\\n",
    "--show-topics-interval {show_interval} \\\n",
    "--use-symmetric-alpha false  \\\n",
    "--optimize-interval 100 \\\n",
    "--diagnostics-file {mallet_data}/novels-diagnostics.xml"
   ]
  },
  {
   "cell_type": "markdown",
   "id": "e8c8676d-a507-4c66-a948-0f35a2966d7e",
   "metadata": {},
   "source": [
    "# Inspect Results"
   ]
  },
  {
   "cell_type": "code",
   "execution_count": null,
   "id": "58a57e3e-3b80-435f-a83d-515d7ae3085c",
   "metadata": {},
   "outputs": [],
   "source": [
    "!ls -l {mallet_data}"
   ]
  },
  {
   "cell_type": "markdown",
   "id": "4f0980b1-46ef-4b9f-b3ee-3e67500ac194",
   "metadata": {
    "tags": []
   },
   "source": [
    "## Appendix\n",
    "\n",
    "### Mallet\n",
    "\n",
    "Website: https://mimno.github.io/Mallet/\n",
    "\n",
    "MALLET is a Java-based package for statistical natural language processing, document classification, clustering, topic modeling, information extraction, and other machine learning applications to text.\n",
    "\n",
    "MALLET includes sophisticated tools for document classification: efficient routines for converting text to \"features\", a wide variety of algorithms (including Naïve Bayes, Maximum Entropy, and Decision Trees), and code for evaluating classifier performance using several commonly used metrics.\n",
    "\n",
    "In addition to classification, MALLET includes tools for sequence tagging for applications such as named-entity extraction from text. Algorithms include Hidden Markov Models, Maximum Entropy Markov Models, and Conditional Random Fields. These methods are implemented in an extensible system for finite state transducers.\n",
    "\n",
    "Topic models are useful for analyzing large collections of unlabeled text. The MALLET topic modeling toolkit contains efficient, sampling-based implementations of Latent Dirichlet Allocation, Pachinko Allocation, and Hierarchical LDA.\n",
    "\n",
    "Many of the algorithms in MALLET depend on numerical optimization. MALLET includes an efficient implementation of Limited Memory BFGS, among many other optimization methods.\n",
    "\n",
    "In addition to sophisticated Machine Learning applications, MALLET includes routines for transforming text documents into numerical representations that can then be processed efficiently. This process is implemented through a flexible system of \"pipes\", which handle distinct tasks such as tokenizing strings, removing stopwords, and converting sequences into count vectors.\n",
    "\n",
    "An add-on package to MALLET, called GRMM, contains support for inference in general graphical models, and training of CRFs with arbitrary graphical structure.\n",
    "\n",
    "### Installation\n",
    "\n",
    "To build a Mallet 2.0 development release, you must have the Apache ant build tool installed. From the command prompt, first change to the mallet directory, and then type\n",
    "`ant`\n",
    "\n",
    "If `ant` finishes with `\"BUILD SUCCESSFUL\"`, Mallet is now ready to use.\n",
    "\n",
    "If you would like to deploy Mallet as part of a larger application, it is helpful to create a single \".jar\" file that contains all of the compiled code. Once you have compiled the individual Mallet class files, use the command:\n",
    "`ant jar`\n",
    "\n",
    "This process will create a file \"mallet.jar\" in the \"dist\" directory within Mallet.\n",
    "\n",
    "### Usage\n",
    "\n",
    "Once you have installed Mallet you can use it using the following command:\n",
    "\n",
    "```bash\n",
    "bin/mallet [command] --option value --option value ...\n",
    "```\n",
    "Type `bin/mallet` to get a list of commands, and use the option `--help` with any command to get a description of valid options.\n",
    "\n",
    "For details about the commands please visit the API documentation and website at: https://mimno.github.io/Mallet/\n",
    "\n",
    "\n",
    "### List of Algorithms\n",
    "\n",
    "* Topic Modelling\n",
    "  * LDA\n",
    "  * Parallel LDA\n",
    "  * DMR LDA\n",
    "  * Hierarchical LDA\n",
    "  * Labeled LDA\n",
    "  * Polylingual Topic Model\n",
    "  * Hierarchical Pachinko Allocation Model (PAM)\n",
    "  * Weighted Topic Model\n",
    "  * LDA with integrated phrase discovery\n",
    "  * Word Embeddings (word2vec) using skip-gram with negative sampling\n",
    "* Classification\n",
    "  * AdaBoost\n",
    "  * Bagging\n",
    "  * Winnow\n",
    "  * C45 Decision Tree\n",
    "  * Ensemble Trainer\n",
    "  * Maximum Entropy Classifier (Multinomial Logistic Regression)\n",
    "  * Naive Bayes\n",
    "  * Rank Maximum Entropy Classifier\n",
    "  * Posterior Regularization Auxiliary Model\n",
    "* Clustering\n",
    "  * Greedy Agglomerative\n",
    "  * Hill Climbing\n",
    "  * K-Means\n",
    "  * K-Best\n",
    "* Sequence Prediction Models\n",
    "  * Conditional Random Fields\n",
    "  * Maximum Entropy Markov Models\n",
    "  * Hidden Markov Models\n",
    "  * Semi-Supervised Sequence Prediction Models\n",
    "* Linear Regression"
   ]
  }
 ],
 "metadata": {
  "kernelspec": {
   "display_name": "Python 3 (ipykernel)",
   "language": "python",
   "name": "python3"
  },
  "language_info": {
   "codemirror_mode": {
    "name": "ipython",
    "version": 3
   },
   "file_extension": ".py",
   "mimetype": "text/x-python",
   "name": "python",
   "nbconvert_exporter": "python",
   "pygments_lexer": "ipython3",
   "version": "3.11.5"
  },
  "widgets": {
   "application/vnd.jupyter.widget-state+json": {
    "state": {},
    "version_major": 2,
    "version_minor": 0
   }
  }
 },
 "nbformat": 4,
 "nbformat_minor": 5
}
